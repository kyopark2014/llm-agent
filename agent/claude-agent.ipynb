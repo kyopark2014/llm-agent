{
 "cells": [
  {
   "cell_type": "code",
   "execution_count": 1,
   "id": "11de9928-d6ac-4bac-8804-df249690b8c9",
   "metadata": {
    "tags": []
   },
   "outputs": [],
   "source": [
    "import boto3"
   ]
  },
  {
   "cell_type": "code",
   "execution_count": 2,
   "id": "5506ad8b-6e72-4650-a747-42a400ebee0b",
   "metadata": {
    "tags": []
   },
   "outputs": [],
   "source": [
    "!pip3 install langchain-aws langchain-community langchain --quiet"
   ]
  },
  {
   "cell_type": "markdown",
   "id": "7f3895d1-53fd-404f-b9f4-e04f27ca0437",
   "metadata": {
    "tags": []
   },
   "source": [
    "## Claude3 Setting"
   ]
  },
  {
   "cell_type": "code",
   "execution_count": 4,
   "id": "aa02799d-60b6-4bc6-9361-513b7a6b8603",
   "metadata": {
    "tags": []
   },
   "outputs": [],
   "source": [
    "from botocore.config import Config\n",
    "from langchain_aws import ChatBedrock\n",
    "bedrock_region = 'us-east-1'\n",
    "modelId = \"anthropic.claude-3-sonnet-20240229-v1:0\"\n",
    "boto3_bedrock = boto3.client(\n",
    "    service_name='bedrock-runtime',\n",
    "    region_name=bedrock_region,\n",
    "    config=Config(\n",
    "        retries = {\n",
    "            'max_attempts': 30\n",
    "        }            \n",
    "    )\n",
    ")\n",
    "\n",
    "HUMAN_PROMPT = \"\\n\\nHuman:\"\n",
    "AI_PROMPT = \"\\n\\nAssistant:\"\n",
    "maxOutputTokens = 4096\n",
    "parameters = {\n",
    "    \"max_tokens\":maxOutputTokens,     \n",
    "    \"temperature\":0.1,\n",
    "    \"top_k\":250,\n",
    "    \"top_p\":0.9,\n",
    "    \"stop_sequences\": [HUMAN_PROMPT]\n",
    "}    \n",
    "chat = ChatBedrock(   \n",
    "    model_id=modelId,\n",
    "    client=boto3_bedrock, \n",
    "    model_kwargs=parameters,\n",
    ")"
   ]
  },
  {
   "cell_type": "code",
   "execution_count": 5,
   "id": "ccb83253-e167-42a2-964d-472c1d98db54",
   "metadata": {
    "tags": []
   },
   "outputs": [],
   "source": [
    "from langchain.memory import ConversationBufferWindowMemory\n",
    "memory_chain = ConversationBufferWindowMemory(memory_key=\"chat_history\", output_key='answer', return_messages=True, k=10)"
   ]
  },
  {
   "cell_type": "markdown",
   "id": "94ad9c78-3ed9-47aa-90e6-a88bcec71c54",
   "metadata": {},
   "source": [
    "## General Conversation"
   ]
  },
  {
   "cell_type": "code",
   "execution_count": 6,
   "id": "7149afda-14e5-4a49-89c3-3dc7df23785a",
   "metadata": {
    "tags": []
   },
   "outputs": [],
   "source": [
    "from langchain_core.prompts import MessagesPlaceholder, ChatPromptTemplate\n",
    "\n",
    "def general_conversation(chat, query):\n",
    "    system = (\n",
    "\"\"\"다음은 Human과 AI의 친근한 대화입니다. AI는 상황에 맞는 구체적인 세부 정보를 충분히 제공합니다. \n",
    "AI의 이름은 서연이고, Emoji 없이 가능한 한국어로 답변하세요. 또한, 한자는 한국어로 변환합니다.<|eot_id|>\"\"\"\n",
    "    )\n",
    "    human = \"\"\"{input}\"\"\"\n",
    "    \n",
    "    prompt = ChatPromptTemplate.from_messages([(\"system\", system), MessagesPlaceholder(variable_name=\"history\"), (\"human\", human)])\n",
    "    print('prompt: ', prompt)\n",
    "    \n",
    "    chain = prompt | chat\n",
    "        \n",
    "    history = memory_chain.load_memory_variables({})[\"chat_history\"]\n",
    "    print('memory_chain: ', history)\n",
    "                \n",
    "    try: \n",
    "        stream = chain.invoke(\n",
    "            {\n",
    "                \"history\": history,\n",
    "                \"input\": query,\n",
    "            }\n",
    "        )\n",
    "        \n",
    "        print('stream: ', stream)        \n",
    "        usage = stream.response_metadata['usage']\n",
    "        print('prompt_tokens: ', usage['prompt_tokens'])\n",
    "        print('completion_tokens: ', usage['completion_tokens'])\n",
    "        print('total_tokens: ', usage['total_tokens'])\n",
    "        msg = stream.content\n",
    "        \n",
    "    except Exception:\n",
    "        err_msg = traceback.format_exc()\n",
    "        print('error message: ', err_msg)        \n",
    "            \n",
    "        raise Exception (\"Not able to request to LLM\")\n",
    "    \n",
    "    return msg"
   ]
  },
  {
   "cell_type": "markdown",
   "id": "ec7cf05d-bd09-497b-a764-b0b151a6bee7",
   "metadata": {},
   "source": [
    "## 채팅 이력의 활용"
   ]
  },
  {
   "cell_type": "code",
   "execution_count": 7,
   "id": "c7e95210-5a84-4249-9ee7-faf556623945",
   "metadata": {
    "tags": []
   },
   "outputs": [
    {
     "name": "stdout",
     "output_type": "stream",
     "text": [
      "prompt:  input_variables=['history', 'input'] input_types={'history': typing.List[typing.Union[langchain_core.messages.ai.AIMessage, langchain_core.messages.human.HumanMessage, langchain_core.messages.chat.ChatMessage, langchain_core.messages.system.SystemMessage, langchain_core.messages.function.FunctionMessage, langchain_core.messages.tool.ToolMessage]]} messages=[SystemMessagePromptTemplate(prompt=PromptTemplate(input_variables=[], template='다음은 Human과 AI의 친근한 대화입니다. AI는 상황에 맞는 구체적인 세부 정보를 충분히 제공합니다. \\nAI의 이름은 서연이고, Emoji 없이 가능한 한국어로 답변하세요. 또한, 한자는 한국어로 변환합니다.<|eot_id|>')), MessagesPlaceholder(variable_name='history'), HumanMessagePromptTemplate(prompt=PromptTemplate(input_variables=['input'], template='{input}'))]\n",
      "memory_chain:  []\n",
      "stream:  content='여행은 정말 좋은 경험이 될 수 있습니다. 새로운 장소를 방문하고 다른 문화를 체험하면서 시야를 넓힐 수 있죠. 어디를 가고 싶으신가요? 국내 여행을 원하시나요, 아니면 해외 여행을 희망하시나요? 예산과 일정, 관심사에 따라 여러 옵션을 제안해 드릴 수 있습니다. 여행지를 정하면 숙박, 교통, 관광지 등 구체적인 계획을 세우는 것도 도와드리겠습니다. 여행 준비는 많은 노력이 필요하지만 좋은 추억을 만들 수 있을 것입니다.' additional_kwargs={'usage': {'prompt_tokens': 131, 'completion_tokens': 251, 'total_tokens': 382}} response_metadata={'model_id': 'anthropic.claude-3-sonnet-20240229-v1:0', 'usage': {'prompt_tokens': 131, 'completion_tokens': 251, 'total_tokens': 382}} id='run-a105a475-9c1d-421c-8a0a-ef318993e108-0'\n",
      "prompt_tokens:  131\n",
      "completion_tokens:  251\n",
      "total_tokens:  382\n"
     ]
    },
    {
     "data": {
      "text/plain": [
       "'여행은 정말 좋은 경험이 될 수 있습니다. 새로운 장소를 방문하고 다른 문화를 체험하면서 시야를 넓힐 수 있죠. 어디를 가고 싶으신가요? 국내 여행을 원하시나요, 아니면 해외 여행을 희망하시나요? 예산과 일정, 관심사에 따라 여러 옵션을 제안해 드릴 수 있습니다. 여행지를 정하면 숙박, 교통, 관광지 등 구체적인 계획을 세우는 것도 도와드리겠습니다. 여행 준비는 많은 노력이 필요하지만 좋은 추억을 만들 수 있을 것입니다.'"
      ]
     },
     "execution_count": 7,
     "metadata": {},
     "output_type": "execute_result"
    }
   ],
   "source": [
    "text = \"여행하고 싶어\"\n",
    "msg = general_conversation(chat, text)    \n",
    "msg"
   ]
  },
  {
   "cell_type": "code",
   "execution_count": 8,
   "id": "85e92494-2d9a-4bae-897b-d2ed11dc7662",
   "metadata": {
    "tags": []
   },
   "outputs": [],
   "source": [
    "memory_chain.chat_memory.add_user_message(text)\n",
    "memory_chain.chat_memory.add_ai_message(msg)"
   ]
  },
  {
   "cell_type": "code",
   "execution_count": 9,
   "id": "55af83b8-30e8-4e31-8cd1-92b908711e46",
   "metadata": {
    "tags": []
   },
   "outputs": [
    {
     "name": "stdout",
     "output_type": "stream",
     "text": [
      "prompt:  input_variables=['history', 'input'] input_types={'history': typing.List[typing.Union[langchain_core.messages.ai.AIMessage, langchain_core.messages.human.HumanMessage, langchain_core.messages.chat.ChatMessage, langchain_core.messages.system.SystemMessage, langchain_core.messages.function.FunctionMessage, langchain_core.messages.tool.ToolMessage]]} messages=[SystemMessagePromptTemplate(prompt=PromptTemplate(input_variables=[], template='다음은 Human과 AI의 친근한 대화입니다. AI는 상황에 맞는 구체적인 세부 정보를 충분히 제공합니다. \\nAI의 이름은 서연이고, Emoji 없이 가능한 한국어로 답변하세요. 또한, 한자는 한국어로 변환합니다.<|eot_id|>')), MessagesPlaceholder(variable_name='history'), HumanMessagePromptTemplate(prompt=PromptTemplate(input_variables=['input'], template='{input}'))]\n",
      "memory_chain:  [HumanMessage(content='여행하고 싶어'), AIMessage(content='여행은 정말 좋은 경험이 될 수 있습니다. 새로운 장소를 방문하고 다른 문화를 체험하면서 시야를 넓힐 수 있죠. 어디를 가고 싶으신가요? 국내 여행을 원하시나요, 아니면 해외 여행을 희망하시나요? 예산과 일정, 관심사에 따라 여러 옵션을 제안해 드릴 수 있습니다. 여행지를 정하면 숙박, 교통, 관광지 등 구체적인 계획을 세우는 것도 도와드리겠습니다. 여행 준비는 많은 노력이 필요하지만 좋은 추억을 만들 수 있을 것입니다.')]\n",
      "stream:  content='제주도는 아름다운 자연경관과 독특한 문화를 가진 매력적인 여행지입니다. \\n\\n제주에서 꼭 가봐야 할 곳으로는 한라산 국립공원, 성산 일출봉, 주상절리대, 협재 해수욕장 등이 있습니다. 한라산은 유네스코 세계자연유산으로 지정된 곳으로 올레길을 따라 트레킹을 하면 좋습니다. 성산일출봉은 제주에서 가장 유명한 관광지 중 하나입니다.\\n\\n또한 제주에는 유네스코 인류무형문화유산인 제주 칠머리당 영등굿과 같은 독특한 무속문화가 있습니다. 제주folk village에서 전통문화를 체험해보는 것도 좋겠죠.\\n\\n제주는 맛있는 향토음식도 많습니다. 고기국수, 갈치조림, 몸국 등을 꼭 드셔보세요. \\n\\n제주에는 렌터카를 이용하면 이동이 편리합니다. 숙박도 리조트, 펜션, 게스트하우스 등 다양한 선택지가 있습니다. 일정과 예산에 맞춰 알맞은 곳을 골라보시면 좋을 것 같습니다.' additional_kwargs={'usage': {'prompt_tokens': 389, 'completion_tokens': 442, 'total_tokens': 831}} response_metadata={'model_id': 'anthropic.claude-3-sonnet-20240229-v1:0', 'usage': {'prompt_tokens': 389, 'completion_tokens': 442, 'total_tokens': 831}} id='run-d4529d95-9b5c-417a-9321-f5f5629d6c04-0'\n",
      "prompt_tokens:  389\n",
      "completion_tokens:  442\n",
      "total_tokens:  831\n"
     ]
    },
    {
     "data": {
      "text/plain": [
       "'제주도는 아름다운 자연경관과 독특한 문화를 가진 매력적인 여행지입니다. \\n\\n제주에서 꼭 가봐야 할 곳으로는 한라산 국립공원, 성산 일출봉, 주상절리대, 협재 해수욕장 등이 있습니다. 한라산은 유네스코 세계자연유산으로 지정된 곳으로 올레길을 따라 트레킹을 하면 좋습니다. 성산일출봉은 제주에서 가장 유명한 관광지 중 하나입니다.\\n\\n또한 제주에는 유네스코 인류무형문화유산인 제주 칠머리당 영등굿과 같은 독특한 무속문화가 있습니다. 제주folk village에서 전통문화를 체험해보는 것도 좋겠죠.\\n\\n제주는 맛있는 향토음식도 많습니다. 고기국수, 갈치조림, 몸국 등을 꼭 드셔보세요. \\n\\n제주에는 렌터카를 이용하면 이동이 편리합니다. 숙박도 리조트, 펜션, 게스트하우스 등 다양한 선택지가 있습니다. 일정과 예산에 맞춰 알맞은 곳을 골라보시면 좋을 것 같습니다.'"
      ]
     },
     "execution_count": 9,
     "metadata": {},
     "output_type": "execute_result"
    }
   ],
   "source": [
    "text = \"제주도\"\n",
    "msg = general_conversation(chat, text)    \n",
    "msg"
   ]
  },
  {
   "cell_type": "code",
   "execution_count": 10,
   "id": "d435324f-a58a-46a8-bd8c-9ad5433cd112",
   "metadata": {
    "tags": []
   },
   "outputs": [],
   "source": [
    "memory_chain.chat_memory.add_user_message(text)\n",
    "memory_chain.chat_memory.add_ai_message(msg)"
   ]
  },
  {
   "cell_type": "code",
   "execution_count": 11,
   "id": "6bae039f-a25e-4285-ae85-bb81f2b5728f",
   "metadata": {
    "tags": []
   },
   "outputs": [
    {
     "data": {
      "text/plain": [
       "ConversationBufferWindowMemory(chat_memory=InMemoryChatMessageHistory(messages=[HumanMessage(content='여행하고 싶어'), AIMessage(content='여행은 정말 좋은 경험이 될 수 있습니다. 새로운 장소를 방문하고 다른 문화를 체험하면서 시야를 넓힐 수 있죠. 어디를 가고 싶으신가요? 국내 여행을 원하시나요, 아니면 해외 여행을 희망하시나요? 예산과 일정, 관심사에 따라 여러 옵션을 제안해 드릴 수 있습니다. 여행지를 정하면 숙박, 교통, 관광지 등 구체적인 계획을 세우는 것도 도와드리겠습니다. 여행 준비는 많은 노력이 필요하지만 좋은 추억을 만들 수 있을 것입니다.'), HumanMessage(content='제주도'), AIMessage(content='제주도는 아름다운 자연경관과 독특한 문화를 가진 매력적인 여행지입니다. \\n\\n제주에서 꼭 가봐야 할 곳으로는 한라산 국립공원, 성산 일출봉, 주상절리대, 협재 해수욕장 등이 있습니다. 한라산은 유네스코 세계자연유산으로 지정된 곳으로 올레길을 따라 트레킹을 하면 좋습니다. 성산일출봉은 제주에서 가장 유명한 관광지 중 하나입니다.\\n\\n또한 제주에는 유네스코 인류무형문화유산인 제주 칠머리당 영등굿과 같은 독특한 무속문화가 있습니다. 제주folk village에서 전통문화를 체험해보는 것도 좋겠죠.\\n\\n제주는 맛있는 향토음식도 많습니다. 고기국수, 갈치조림, 몸국 등을 꼭 드셔보세요. \\n\\n제주에는 렌터카를 이용하면 이동이 편리합니다. 숙박도 리조트, 펜션, 게스트하우스 등 다양한 선택지가 있습니다. 일정과 예산에 맞춰 알맞은 곳을 골라보시면 좋을 것 같습니다.')]), output_key='answer', return_messages=True, memory_key='chat_history', k=10)"
      ]
     },
     "execution_count": 11,
     "metadata": {},
     "output_type": "execute_result"
    }
   ],
   "source": [
    "memory_chain"
   ]
  },
  {
   "cell_type": "code",
   "execution_count": null,
   "id": "b95d0809-497b-45f6-8091-89f38c1b7983",
   "metadata": {},
   "outputs": [],
   "source": []
  },
  {
   "cell_type": "code",
   "execution_count": 12,
   "id": "d1222e09-2814-48eb-812a-abedec016772",
   "metadata": {
    "tags": []
   },
   "outputs": [],
   "source": [
    "from langchain_core.prompts import PromptTemplate\n",
    "\n",
    "def get_react_prompt_template():\n",
    "    # Get the react prompt template\n",
    "    return PromptTemplate.from_template(\"\"\"Answer the following questions as best you can. You have access to the following tools:\n",
    "\n",
    "{tools}\n",
    "\n",
    "Use the following format:\n",
    "\n",
    "Question: the input question you must answer\n",
    "Thought: you should always think about what to do\n",
    "Action: the action to take, should be one of [{tool_names}]\n",
    "Action Input: the input to the action\n",
    "Observation: the result of the action\n",
    "... (this Thought/Action/Action Input/Observation can repeat N times)\n",
    "Thought: I now know the final answer\n",
    "Final Answer: the final answer to the original input question\n",
    "\n",
    "Begin!\n",
    "\n",
    "Question: {input}\n",
    "Thought:{agent_scratchpad}\n",
    "\"\"\")"
   ]
  },
  {
   "cell_type": "code",
   "execution_count": 13,
   "id": "46d1f95b-abf6-49fa-96a1-bdb322290a37",
   "metadata": {
    "tags": []
   },
   "outputs": [],
   "source": [
    "import datetime\n",
    "from langchain.agents import tool\n",
    "\n",
    "@tool\n",
    "def check_system_time(format: str = \"%Y-%m-%d %H:%M:%S\"):\n",
    "    \"\"\"Returns the current date and time in the specified format\"\"\"\n",
    "\n",
    "    # get the current date and time\n",
    "    current_time = datetime.datetime.now()\n",
    "    \n",
    "    # format the time as a string in the format \"YYYY-MM-DD HH:MM:SS\"\n",
    "    formatted_time = current_time.strftime(format)\n",
    "    \n",
    "    # return the formatted time\n",
    "    return formatted_time"
   ]
  },
  {
   "cell_type": "code",
   "execution_count": 14,
   "id": "17cdf5be-5c45-47a9-9755-a30924bccf9e",
   "metadata": {
    "tags": []
   },
   "outputs": [],
   "source": [
    "tools = [check_system_time]"
   ]
  },
  {
   "cell_type": "code",
   "execution_count": 15,
   "id": "6d2515fc-9b24-4ed9-829b-5b9cd5a1ae33",
   "metadata": {
    "tags": []
   },
   "outputs": [],
   "source": [
    "prompt_template = get_react_prompt_template()"
   ]
  },
  {
   "cell_type": "code",
   "execution_count": 17,
   "id": "fc5f7f6c-5933-4495-9f68-1e833ab16c57",
   "metadata": {
    "tags": []
   },
   "outputs": [],
   "source": [
    "from langchain.agents import AgentExecutor, create_react_agent\n",
    "agent = create_react_agent(chat, tools, prompt_template)"
   ]
  },
  {
   "cell_type": "code",
   "execution_count": 18,
   "id": "221cfea9-9428-41fe-948d-038c6ebeeb8d",
   "metadata": {
    "tags": []
   },
   "outputs": [],
   "source": [
    "agent_executor = AgentExecutor(agent=agent, tools=tools, verbose=True)"
   ]
  },
  {
   "cell_type": "code",
   "execution_count": 19,
   "id": "9cf3a20a-2f4c-4c15-8d1b-247e801cae47",
   "metadata": {
    "tags": []
   },
   "outputs": [
    {
     "name": "stdout",
     "output_type": "stream",
     "text": [
      "\n",
      "\n",
      "\u001b[1m> Entering new AgentExecutor chain...\u001b[0m\n",
      "\u001b[32;1m\u001b[1;3mThought: To find the current time in New York, I first need to determine the time difference between London and New York. Then I can adjust the current time in London accordingly.\n",
      "Action: check_system_time('%H:%M:%S')\n",
      "Action Input: '%H:%M:%S'\u001b[0mcheck_system_time('%H:%M:%S') is not a valid tool, try one of [check_system_time].\u001b[32;1m\u001b[1;3mThought: To get the current time in New York, I need to first get the current time in London, then adjust for the time difference between London and New York.\n",
      "Action: check_system_time\n",
      "Action Input: '%H:%M:%S'\u001b[0m\u001b[36;1m\u001b[1;3m'14:03:48'\u001b[0m\u001b[32;1m\u001b[1;3mThought: The time difference between London and New York is 5 hours. New York is behind London time, so I need to subtract 5 hours from the current time in London to get the time in New York.\n",
      "Action: check_system_time\n",
      "Action Input: '%H:%M:%S'  \u001b[0m\u001b[36;1m\u001b[1;3m'14:03:50'\u001b[0m\u001b[32;1m\u001b[1;3mThought: I now know the final answer\n",
      "Final Answer: The current time in New York is 09:03 AM.\u001b[0m\n",
      "\n",
      "\u001b[1m> Finished chain.\u001b[0m\n"
     ]
    },
    {
     "data": {
      "text/plain": [
       "{'input': \"What's the current time in New York (you are in London) just show the time in New York and not the date?\",\n",
       " 'output': 'The current time in New York is 09:03 AM.'}"
      ]
     },
     "execution_count": 19,
     "metadata": {},
     "output_type": "execute_result"
    }
   ],
   "source": [
    "query = \"What's the current time in New York (you are in London) just show the time in New York and not the date?\"\n",
    "agent_executor.invoke({\"input\": query})"
   ]
  },
  {
   "cell_type": "code",
   "execution_count": null,
   "id": "63a2f1d2-fea6-446d-acd7-dea44383a766",
   "metadata": {},
   "outputs": [],
   "source": []
  },
  {
   "cell_type": "code",
   "execution_count": 20,
   "id": "e3873239-b8f7-4c6f-83ee-7794ecea5495",
   "metadata": {
    "tags": []
   },
   "outputs": [
    {
     "name": "stdout",
     "output_type": "stream",
     "text": [
      "\n",
      "\n",
      "\u001b[1m> Entering new AgentExecutor chain...\u001b[0m\n",
      "\u001b[32;1m\u001b[1;3mQuestion: 제주도 관광지 추천해줘.\n",
      "Thought: 제주도는 아름다운 자연경관과 독특한 문화유산이 많은 곳입니다. 관광객들이 가장 많이 방문하는 곳들을 추천해야겠습니다.\n",
      "Action: check_system_time('%Y-%m-%d %H:%M:%S')\n",
      "Action Input: '%Y-%m-%d %H:%M:%S'\u001b[0mcheck_system_time('%Y-%m-%d %H:%M:%S') is not a valid tool, try one of [check_system_time].\u001b[32;1m\u001b[1;3m죄송합니다. 제가 제공한 도구는 현재 시간을 확인하는 것뿐입니다. 제주도 관광지를 추천하는 것과는 관련이 없네요. 제주도 관광지를 추천해드리겠습니다.\n",
      "\n",
      "Final Answer: 제주도에서 가장 유명한 관광지로는 성산일출봉, 한라산국립공원, 주상절리대, 협재 해수욕장 등이 있습니다. \n",
      "\n",
      "성산일출봉은 제주도의 상징적인 명소로, 아름다운 분화구 모양의 푸른 바다가 인상적입니다. \n",
      "\n",
      "한라산은 제주도의 최고봉으로 유네스코 세계자연유산에 등재되어 있습니다. 산행을 하거나 숲길을 걸으며 자연을 만끽할 수 있습니다.  \n",
      "\n",
      "주상절리대는 현무암이 식으면서 형성된 기둥 모양의 독특한 지형입니다.\n",
      "\n",
      "협재 해수욕장은 검은 모래사장과 기암괴석이 어우러진 아름다운 해변입니다.\n",
      "\n",
      "그 외에도 제주에는 오름, 폭포, 동굴 등 다양한 자연경관과 문화유적지가 많으니 시간이 된다면 둘러보시면 좋을 것 같습니다.\u001b[0m\n",
      "\n",
      "\u001b[1m> Finished chain.\u001b[0m\n"
     ]
    },
    {
     "data": {
      "text/plain": [
       "{'input': '제주도 관광지 추천해줘.',\n",
       " 'output': '제주도에서 가장 유명한 관광지로는 성산일출봉, 한라산국립공원, 주상절리대, 협재 해수욕장 등이 있습니다. \\n\\n성산일출봉은 제주도의 상징적인 명소로, 아름다운 분화구 모양의 푸른 바다가 인상적입니다. \\n\\n한라산은 제주도의 최고봉으로 유네스코 세계자연유산에 등재되어 있습니다. 산행을 하거나 숲길을 걸으며 자연을 만끽할 수 있습니다.  \\n\\n주상절리대는 현무암이 식으면서 형성된 기둥 모양의 독특한 지형입니다.\\n\\n협재 해수욕장은 검은 모래사장과 기암괴석이 어우러진 아름다운 해변입니다.\\n\\n그 외에도 제주에는 오름, 폭포, 동굴 등 다양한 자연경관과 문화유적지가 많으니 시간이 된다면 둘러보시면 좋을 것 같습니다.'}"
      ]
     },
     "execution_count": 20,
     "metadata": {},
     "output_type": "execute_result"
    }
   ],
   "source": [
    "query = \"제주도 관광지 추천해줘.\"\n",
    "agent_executor.invoke({\"input\": query})"
   ]
  },
  {
   "cell_type": "code",
   "execution_count": null,
   "id": "832edbd1-7369-42c0-8541-e3e7ee174d6c",
   "metadata": {},
   "outputs": [],
   "source": []
  },
  {
   "cell_type": "code",
   "execution_count": 24,
   "id": "842df9a2-297a-4b80-9d7c-e9a9dfbad350",
   "metadata": {
    "tags": []
   },
   "outputs": [
    {
     "name": "stdout",
     "output_type": "stream",
     "text": [
      "\n",
      "\n",
      "\u001b[1m> Entering new AgentExecutor chain...\u001b[0m\n",
      "\u001b[32;1m\u001b[1;3mThought: 현재 서울 시간을 알려주기 위해서는 check_system_time 액션을 사용해야 합니다.\n",
      "Action: check_system_time\n",
      "Action Input: '%Y-%m-%d %H:%M:%S'\u001b[0m\u001b[36;1m\u001b[1;3m'2024-05-19 14:11:00'\u001b[0m\u001b[32;1m\u001b[1;3mQuestion: 서울 현재 시간 알려줘.\n",
      "Thought: 현재 서울 시간을 알려주기 위해서는 check_system_time 액션을 사용해야 합니다.\n",
      "Action: check_system_time\n",
      "Action Input: '%Y-%m-%d %H:%M:%S' \u001b[0m\u001b[36;1m\u001b[1;3m'2024-05-19 14:11:02'\u001b[0m\u001b[32;1m\u001b[1;3mThought: 관측 결과에 따르면 현재 서울 시간은 2024년 5월 19일 오후 2시 11분 2초입니다.\n",
      "Final Answer: 현재 서울 시간은 2024년 5월 19일 오후 2시 11분 2초입니다.\u001b[0m\n",
      "\n",
      "\u001b[1m> Finished chain.\u001b[0m\n"
     ]
    },
    {
     "data": {
      "text/plain": [
       "{'input': '서울 현재 시간 알려줘.', 'output': '현재 서울 시간은 2024년 5월 19일 오후 2시 11분 2초입니다.'}"
      ]
     },
     "execution_count": 24,
     "metadata": {},
     "output_type": "execute_result"
    }
   ],
   "source": [
    "query = \"서울 현재 시간 알려줘.\"\n",
    "agent_executor.invoke({\"input\": query})"
   ]
  },
  {
   "cell_type": "code",
   "execution_count": null,
   "id": "10e25fc6-1223-487f-83fc-e7567adb3cb2",
   "metadata": {},
   "outputs": [],
   "source": []
  },
  {
   "cell_type": "code",
   "execution_count": null,
   "id": "124e29c4-85db-4afe-a109-f5bb262b8681",
   "metadata": {},
   "outputs": [],
   "source": []
  },
  {
   "cell_type": "code",
   "execution_count": null,
   "id": "0c1ee456-5c6a-4c93-b6e7-fed5ce6ef29c",
   "metadata": {},
   "outputs": [],
   "source": []
  },
  {
   "cell_type": "code",
   "execution_count": 21,
   "id": "0acc8c5f-c50f-424b-9fbe-dfe9fe839099",
   "metadata": {
    "tags": []
   },
   "outputs": [
    {
     "name": "stdout",
     "output_type": "stream",
     "text": [
      "\n",
      "\n",
      "\u001b[1m> Entering new AgentExecutor chain...\u001b[0m\n",
      "\u001b[32;1m\u001b[1;3mQuestion: 오늘 날짜 알려줘.\n",
      "Thought: 이 질문에 답하기 위해서는 현재 시스템 시간을 확인해야 합니다.\n",
      "Action: check_system_time\n",
      "Action Input: '%Y-%m-%d'\u001b[0m\u001b[36;1m\u001b[1;3m'2024-05-19'\u001b[0m\u001b[32;1m\u001b[1;3mQuestion: 오늘 날짜 알려줘.\n",
      "Thought: 이 질문에 답하기 위해서는 현재 시스템 시간을 확인해야 합니다.\n",
      "Action: check_system_time\n",
      "Action Input: '%Y-%m-%d' \u001b[0m\u001b[36;1m\u001b[1;3m'2024-05-19'\u001b[0m\u001b[32;1m\u001b[1;3mQuestion: 오늘 날짜 알려줘.\n",
      "Thought: 이 질문에 답하기 위해서는 현재 시스템 시간을 확인해야 합니다.\n",
      "Action: check_system_time\n",
      "Action Input: '%Y-%m-%d'\u001b[0m\u001b[36;1m\u001b[1;3m'2024-05-19'\u001b[0m"
     ]
    },
    {
     "ename": "ValueError",
     "evalue": "An output parsing error occurred. In order to pass this error back to the agent and have it try again, pass `handle_parsing_errors=True` to the AgentExecutor. This is the error: Could not parse LLM output: `오늘 날짜는 2024년 5월 19일입니다.`",
     "output_type": "error",
     "traceback": [
      "\u001b[0;31m---------------------------------------------------------------------------\u001b[0m",
      "\u001b[0;31mOutputParserException\u001b[0m                     Traceback (most recent call last)",
      "File \u001b[0;32m~/anaconda3/envs/python3/lib/python3.10/site-packages/langchain/agents/agent.py:1167\u001b[0m, in \u001b[0;36mAgentExecutor._iter_next_step\u001b[0;34m(self, name_to_tool_map, color_mapping, inputs, intermediate_steps, run_manager)\u001b[0m\n\u001b[1;32m   1166\u001b[0m     \u001b[38;5;66;03m# Call the LLM to see what to do.\u001b[39;00m\n\u001b[0;32m-> 1167\u001b[0m     output \u001b[38;5;241m=\u001b[39m \u001b[38;5;28;43mself\u001b[39;49m\u001b[38;5;241;43m.\u001b[39;49m\u001b[43magent\u001b[49m\u001b[38;5;241;43m.\u001b[39;49m\u001b[43mplan\u001b[49m\u001b[43m(\u001b[49m\n\u001b[1;32m   1168\u001b[0m \u001b[43m        \u001b[49m\u001b[43mintermediate_steps\u001b[49m\u001b[43m,\u001b[49m\n\u001b[1;32m   1169\u001b[0m \u001b[43m        \u001b[49m\u001b[43mcallbacks\u001b[49m\u001b[38;5;241;43m=\u001b[39;49m\u001b[43mrun_manager\u001b[49m\u001b[38;5;241;43m.\u001b[39;49m\u001b[43mget_child\u001b[49m\u001b[43m(\u001b[49m\u001b[43m)\u001b[49m\u001b[43m \u001b[49m\u001b[38;5;28;43;01mif\u001b[39;49;00m\u001b[43m \u001b[49m\u001b[43mrun_manager\u001b[49m\u001b[43m \u001b[49m\u001b[38;5;28;43;01melse\u001b[39;49;00m\u001b[43m \u001b[49m\u001b[38;5;28;43;01mNone\u001b[39;49;00m\u001b[43m,\u001b[49m\n\u001b[1;32m   1170\u001b[0m \u001b[43m        \u001b[49m\u001b[38;5;241;43m*\u001b[39;49m\u001b[38;5;241;43m*\u001b[39;49m\u001b[43minputs\u001b[49m\u001b[43m,\u001b[49m\n\u001b[1;32m   1171\u001b[0m \u001b[43m    \u001b[49m\u001b[43m)\u001b[49m\n\u001b[1;32m   1172\u001b[0m \u001b[38;5;28;01mexcept\u001b[39;00m OutputParserException \u001b[38;5;28;01mas\u001b[39;00m e:\n",
      "File \u001b[0;32m~/anaconda3/envs/python3/lib/python3.10/site-packages/langchain/agents/agent.py:398\u001b[0m, in \u001b[0;36mRunnableAgent.plan\u001b[0;34m(self, intermediate_steps, callbacks, **kwargs)\u001b[0m\n\u001b[1;32m    391\u001b[0m \u001b[38;5;28;01mif\u001b[39;00m \u001b[38;5;28mself\u001b[39m\u001b[38;5;241m.\u001b[39mstream_runnable:\n\u001b[1;32m    392\u001b[0m     \u001b[38;5;66;03m# Use streaming to make sure that the underlying LLM is invoked in a\u001b[39;00m\n\u001b[1;32m    393\u001b[0m     \u001b[38;5;66;03m# streaming\u001b[39;00m\n\u001b[0;32m   (...)\u001b[0m\n\u001b[1;32m    396\u001b[0m     \u001b[38;5;66;03m# Because the response from the plan is not a generator, we need to\u001b[39;00m\n\u001b[1;32m    397\u001b[0m     \u001b[38;5;66;03m# accumulate the output into final output and return that.\u001b[39;00m\n\u001b[0;32m--> 398\u001b[0m     \u001b[38;5;28;01mfor\u001b[39;00m chunk \u001b[38;5;129;01min\u001b[39;00m \u001b[38;5;28mself\u001b[39m\u001b[38;5;241m.\u001b[39mrunnable\u001b[38;5;241m.\u001b[39mstream(inputs, config\u001b[38;5;241m=\u001b[39m{\u001b[38;5;124m\"\u001b[39m\u001b[38;5;124mcallbacks\u001b[39m\u001b[38;5;124m\"\u001b[39m: callbacks}):\n\u001b[1;32m    399\u001b[0m         \u001b[38;5;28;01mif\u001b[39;00m final_output \u001b[38;5;129;01mis\u001b[39;00m \u001b[38;5;28;01mNone\u001b[39;00m:\n",
      "File \u001b[0;32m~/anaconda3/envs/python3/lib/python3.10/site-packages/langchain_core/runnables/base.py:2744\u001b[0m, in \u001b[0;36mRunnableSequence.stream\u001b[0;34m(self, input, config, **kwargs)\u001b[0m\n\u001b[1;32m   2738\u001b[0m \u001b[38;5;28;01mdef\u001b[39;00m \u001b[38;5;21mstream\u001b[39m(\n\u001b[1;32m   2739\u001b[0m     \u001b[38;5;28mself\u001b[39m,\n\u001b[1;32m   2740\u001b[0m     \u001b[38;5;28minput\u001b[39m: Input,\n\u001b[1;32m   2741\u001b[0m     config: Optional[RunnableConfig] \u001b[38;5;241m=\u001b[39m \u001b[38;5;28;01mNone\u001b[39;00m,\n\u001b[1;32m   2742\u001b[0m     \u001b[38;5;241m*\u001b[39m\u001b[38;5;241m*\u001b[39mkwargs: Optional[Any],\n\u001b[1;32m   2743\u001b[0m ) \u001b[38;5;241m-\u001b[39m\u001b[38;5;241m>\u001b[39m Iterator[Output]:\n\u001b[0;32m-> 2744\u001b[0m     \u001b[38;5;28;01myield from\u001b[39;00m \u001b[38;5;28mself\u001b[39m\u001b[38;5;241m.\u001b[39mtransform(\u001b[38;5;28miter\u001b[39m([\u001b[38;5;28minput\u001b[39m]), config, \u001b[38;5;241m*\u001b[39m\u001b[38;5;241m*\u001b[39mkwargs)\n",
      "File \u001b[0;32m~/anaconda3/envs/python3/lib/python3.10/site-packages/langchain_core/runnables/base.py:2731\u001b[0m, in \u001b[0;36mRunnableSequence.transform\u001b[0;34m(self, input, config, **kwargs)\u001b[0m\n\u001b[1;32m   2725\u001b[0m \u001b[38;5;28;01mdef\u001b[39;00m \u001b[38;5;21mtransform\u001b[39m(\n\u001b[1;32m   2726\u001b[0m     \u001b[38;5;28mself\u001b[39m,\n\u001b[1;32m   2727\u001b[0m     \u001b[38;5;28minput\u001b[39m: Iterator[Input],\n\u001b[1;32m   2728\u001b[0m     config: Optional[RunnableConfig] \u001b[38;5;241m=\u001b[39m \u001b[38;5;28;01mNone\u001b[39;00m,\n\u001b[1;32m   2729\u001b[0m     \u001b[38;5;241m*\u001b[39m\u001b[38;5;241m*\u001b[39mkwargs: Optional[Any],\n\u001b[1;32m   2730\u001b[0m ) \u001b[38;5;241m-\u001b[39m\u001b[38;5;241m>\u001b[39m Iterator[Output]:\n\u001b[0;32m-> 2731\u001b[0m     \u001b[38;5;28;01myield from\u001b[39;00m \u001b[38;5;28mself\u001b[39m\u001b[38;5;241m.\u001b[39m_transform_stream_with_config(\n\u001b[1;32m   2732\u001b[0m         \u001b[38;5;28minput\u001b[39m,\n\u001b[1;32m   2733\u001b[0m         \u001b[38;5;28mself\u001b[39m\u001b[38;5;241m.\u001b[39m_transform,\n\u001b[1;32m   2734\u001b[0m         patch_config(config, run_name\u001b[38;5;241m=\u001b[39m(config \u001b[38;5;129;01mor\u001b[39;00m {})\u001b[38;5;241m.\u001b[39mget(\u001b[38;5;124m\"\u001b[39m\u001b[38;5;124mrun_name\u001b[39m\u001b[38;5;124m\"\u001b[39m) \u001b[38;5;129;01mor\u001b[39;00m \u001b[38;5;28mself\u001b[39m\u001b[38;5;241m.\u001b[39mname),\n\u001b[1;32m   2735\u001b[0m         \u001b[38;5;241m*\u001b[39m\u001b[38;5;241m*\u001b[39mkwargs,\n\u001b[1;32m   2736\u001b[0m     )\n",
      "File \u001b[0;32m~/anaconda3/envs/python3/lib/python3.10/site-packages/langchain_core/runnables/base.py:1747\u001b[0m, in \u001b[0;36mRunnable._transform_stream_with_config\u001b[0;34m(self, input, transformer, config, run_type, **kwargs)\u001b[0m\n\u001b[1;32m   1746\u001b[0m \u001b[38;5;28;01mwhile\u001b[39;00m \u001b[38;5;28;01mTrue\u001b[39;00m:\n\u001b[0;32m-> 1747\u001b[0m     chunk: Output \u001b[38;5;241m=\u001b[39m \u001b[43mcontext\u001b[49m\u001b[38;5;241;43m.\u001b[39;49m\u001b[43mrun\u001b[49m\u001b[43m(\u001b[49m\u001b[38;5;28;43mnext\u001b[39;49m\u001b[43m,\u001b[49m\u001b[43m \u001b[49m\u001b[43miterator\u001b[49m\u001b[43m)\u001b[49m  \u001b[38;5;66;03m# type: ignore\u001b[39;00m\n\u001b[1;32m   1748\u001b[0m     \u001b[38;5;28;01myield\u001b[39;00m chunk\n",
      "File \u001b[0;32m~/anaconda3/envs/python3/lib/python3.10/site-packages/langchain_core/runnables/base.py:2695\u001b[0m, in \u001b[0;36mRunnableSequence._transform\u001b[0;34m(self, input, run_manager, config)\u001b[0m\n\u001b[1;32m   2687\u001b[0m     final_pipeline \u001b[38;5;241m=\u001b[39m step\u001b[38;5;241m.\u001b[39mtransform(\n\u001b[1;32m   2688\u001b[0m         final_pipeline,\n\u001b[1;32m   2689\u001b[0m         patch_config(\n\u001b[0;32m   (...)\u001b[0m\n\u001b[1;32m   2692\u001b[0m         ),\n\u001b[1;32m   2693\u001b[0m     )\n\u001b[0;32m-> 2695\u001b[0m \u001b[38;5;28;01mfor\u001b[39;00m output \u001b[38;5;129;01min\u001b[39;00m final_pipeline:\n\u001b[1;32m   2696\u001b[0m     \u001b[38;5;28;01myield\u001b[39;00m output\n",
      "File \u001b[0;32m~/anaconda3/envs/python3/lib/python3.10/site-packages/langchain_core/runnables/base.py:1166\u001b[0m, in \u001b[0;36mRunnable.transform\u001b[0;34m(self, input, config, **kwargs)\u001b[0m\n\u001b[1;32m   1165\u001b[0m \u001b[38;5;28;01mif\u001b[39;00m got_first_val:\n\u001b[0;32m-> 1166\u001b[0m     \u001b[38;5;28;01myield from\u001b[39;00m \u001b[38;5;28mself\u001b[39m\u001b[38;5;241m.\u001b[39mstream(final, config, \u001b[38;5;241m*\u001b[39m\u001b[38;5;241m*\u001b[39mkwargs)\n",
      "File \u001b[0;32m~/anaconda3/envs/python3/lib/python3.10/site-packages/langchain_core/runnables/base.py:808\u001b[0m, in \u001b[0;36mRunnable.stream\u001b[0;34m(self, input, config, **kwargs)\u001b[0m\n\u001b[1;32m    804\u001b[0m \u001b[38;5;250m\u001b[39m\u001b[38;5;124;03m\"\"\"\u001b[39;00m\n\u001b[1;32m    805\u001b[0m \u001b[38;5;124;03mDefault implementation of stream, which calls invoke.\u001b[39;00m\n\u001b[1;32m    806\u001b[0m \u001b[38;5;124;03mSubclasses should override this method if they support streaming output.\u001b[39;00m\n\u001b[1;32m    807\u001b[0m \u001b[38;5;124;03m\"\"\"\u001b[39;00m\n\u001b[0;32m--> 808\u001b[0m \u001b[38;5;28;01myield\u001b[39;00m \u001b[38;5;28;43mself\u001b[39;49m\u001b[38;5;241;43m.\u001b[39;49m\u001b[43minvoke\u001b[49m\u001b[43m(\u001b[49m\u001b[38;5;28;43minput\u001b[39;49m\u001b[43m,\u001b[49m\u001b[43m \u001b[49m\u001b[43mconfig\u001b[49m\u001b[43m,\u001b[49m\u001b[43m \u001b[49m\u001b[38;5;241;43m*\u001b[39;49m\u001b[38;5;241;43m*\u001b[39;49m\u001b[43mkwargs\u001b[49m\u001b[43m)\u001b[49m\n",
      "File \u001b[0;32m~/anaconda3/envs/python3/lib/python3.10/site-packages/langchain_core/output_parsers/base.py:169\u001b[0m, in \u001b[0;36mBaseOutputParser.invoke\u001b[0;34m(self, input, config)\u001b[0m\n\u001b[1;32m    168\u001b[0m \u001b[38;5;28;01mif\u001b[39;00m \u001b[38;5;28misinstance\u001b[39m(\u001b[38;5;28minput\u001b[39m, BaseMessage):\n\u001b[0;32m--> 169\u001b[0m     \u001b[38;5;28;01mreturn\u001b[39;00m \u001b[38;5;28;43mself\u001b[39;49m\u001b[38;5;241;43m.\u001b[39;49m\u001b[43m_call_with_config\u001b[49m\u001b[43m(\u001b[49m\n\u001b[1;32m    170\u001b[0m \u001b[43m        \u001b[49m\u001b[38;5;28;43;01mlambda\u001b[39;49;00m\u001b[43m \u001b[49m\u001b[43minner_input\u001b[49m\u001b[43m:\u001b[49m\u001b[43m \u001b[49m\u001b[38;5;28;43mself\u001b[39;49m\u001b[38;5;241;43m.\u001b[39;49m\u001b[43mparse_result\u001b[49m\u001b[43m(\u001b[49m\n\u001b[1;32m    171\u001b[0m \u001b[43m            \u001b[49m\u001b[43m[\u001b[49m\u001b[43mChatGeneration\u001b[49m\u001b[43m(\u001b[49m\u001b[43mmessage\u001b[49m\u001b[38;5;241;43m=\u001b[39;49m\u001b[43minner_input\u001b[49m\u001b[43m)\u001b[49m\u001b[43m]\u001b[49m\n\u001b[1;32m    172\u001b[0m \u001b[43m        \u001b[49m\u001b[43m)\u001b[49m\u001b[43m,\u001b[49m\n\u001b[1;32m    173\u001b[0m \u001b[43m        \u001b[49m\u001b[38;5;28;43minput\u001b[39;49m\u001b[43m,\u001b[49m\n\u001b[1;32m    174\u001b[0m \u001b[43m        \u001b[49m\u001b[43mconfig\u001b[49m\u001b[43m,\u001b[49m\n\u001b[1;32m    175\u001b[0m \u001b[43m        \u001b[49m\u001b[43mrun_type\u001b[49m\u001b[38;5;241;43m=\u001b[39;49m\u001b[38;5;124;43m\"\u001b[39;49m\u001b[38;5;124;43mparser\u001b[39;49m\u001b[38;5;124;43m\"\u001b[39;49m\u001b[43m,\u001b[49m\n\u001b[1;32m    176\u001b[0m \u001b[43m    \u001b[49m\u001b[43m)\u001b[49m\n\u001b[1;32m    177\u001b[0m \u001b[38;5;28;01melse\u001b[39;00m:\n",
      "File \u001b[0;32m~/anaconda3/envs/python3/lib/python3.10/site-packages/langchain_core/runnables/base.py:1492\u001b[0m, in \u001b[0;36mRunnable._call_with_config\u001b[0;34m(self, func, input, config, run_type, **kwargs)\u001b[0m\n\u001b[1;32m   1489\u001b[0m     context\u001b[38;5;241m.\u001b[39mrun(var_child_runnable_config\u001b[38;5;241m.\u001b[39mset, child_config)\n\u001b[1;32m   1490\u001b[0m     output \u001b[38;5;241m=\u001b[39m cast(\n\u001b[1;32m   1491\u001b[0m         Output,\n\u001b[0;32m-> 1492\u001b[0m         \u001b[43mcontext\u001b[49m\u001b[38;5;241;43m.\u001b[39;49m\u001b[43mrun\u001b[49m\u001b[43m(\u001b[49m\n\u001b[1;32m   1493\u001b[0m \u001b[43m            \u001b[49m\u001b[43mcall_func_with_variable_args\u001b[49m\u001b[43m,\u001b[49m\u001b[43m  \u001b[49m\u001b[38;5;66;43;03m# type: ignore[arg-type]\u001b[39;49;00m\n\u001b[1;32m   1494\u001b[0m \u001b[43m            \u001b[49m\u001b[43mfunc\u001b[49m\u001b[43m,\u001b[49m\u001b[43m  \u001b[49m\u001b[38;5;66;43;03m# type: ignore[arg-type]\u001b[39;49;00m\n\u001b[1;32m   1495\u001b[0m \u001b[43m            \u001b[49m\u001b[38;5;28;43minput\u001b[39;49m\u001b[43m,\u001b[49m\u001b[43m  \u001b[49m\u001b[38;5;66;43;03m# type: ignore[arg-type]\u001b[39;49;00m\n\u001b[1;32m   1496\u001b[0m \u001b[43m            \u001b[49m\u001b[43mconfig\u001b[49m\u001b[43m,\u001b[49m\n\u001b[1;32m   1497\u001b[0m \u001b[43m            \u001b[49m\u001b[43mrun_manager\u001b[49m\u001b[43m,\u001b[49m\n\u001b[1;32m   1498\u001b[0m \u001b[43m            \u001b[49m\u001b[38;5;241;43m*\u001b[39;49m\u001b[38;5;241;43m*\u001b[39;49m\u001b[43mkwargs\u001b[49m\u001b[43m,\u001b[49m\n\u001b[1;32m   1499\u001b[0m \u001b[43m        \u001b[49m\u001b[43m)\u001b[49m,\n\u001b[1;32m   1500\u001b[0m     )\n\u001b[1;32m   1501\u001b[0m \u001b[38;5;28;01mexcept\u001b[39;00m \u001b[38;5;167;01mBaseException\u001b[39;00m \u001b[38;5;28;01mas\u001b[39;00m e:\n",
      "File \u001b[0;32m~/anaconda3/envs/python3/lib/python3.10/site-packages/langchain_core/runnables/config.py:347\u001b[0m, in \u001b[0;36mcall_func_with_variable_args\u001b[0;34m(func, input, config, run_manager, **kwargs)\u001b[0m\n\u001b[1;32m    346\u001b[0m     kwargs[\u001b[38;5;124m\"\u001b[39m\u001b[38;5;124mrun_manager\u001b[39m\u001b[38;5;124m\"\u001b[39m] \u001b[38;5;241m=\u001b[39m run_manager\n\u001b[0;32m--> 347\u001b[0m \u001b[38;5;28;01mreturn\u001b[39;00m \u001b[43mfunc\u001b[49m\u001b[43m(\u001b[49m\u001b[38;5;28;43minput\u001b[39;49m\u001b[43m,\u001b[49m\u001b[43m \u001b[49m\u001b[38;5;241;43m*\u001b[39;49m\u001b[38;5;241;43m*\u001b[39;49m\u001b[43mkwargs\u001b[49m\u001b[43m)\u001b[49m\n",
      "File \u001b[0;32m~/anaconda3/envs/python3/lib/python3.10/site-packages/langchain_core/output_parsers/base.py:170\u001b[0m, in \u001b[0;36mBaseOutputParser.invoke.<locals>.<lambda>\u001b[0;34m(inner_input)\u001b[0m\n\u001b[1;32m    168\u001b[0m \u001b[38;5;28;01mif\u001b[39;00m \u001b[38;5;28misinstance\u001b[39m(\u001b[38;5;28minput\u001b[39m, BaseMessage):\n\u001b[1;32m    169\u001b[0m     \u001b[38;5;28;01mreturn\u001b[39;00m \u001b[38;5;28mself\u001b[39m\u001b[38;5;241m.\u001b[39m_call_with_config(\n\u001b[0;32m--> 170\u001b[0m         \u001b[38;5;28;01mlambda\u001b[39;00m inner_input: \u001b[38;5;28;43mself\u001b[39;49m\u001b[38;5;241;43m.\u001b[39;49m\u001b[43mparse_result\u001b[49m\u001b[43m(\u001b[49m\n\u001b[1;32m    171\u001b[0m \u001b[43m            \u001b[49m\u001b[43m[\u001b[49m\u001b[43mChatGeneration\u001b[49m\u001b[43m(\u001b[49m\u001b[43mmessage\u001b[49m\u001b[38;5;241;43m=\u001b[39;49m\u001b[43minner_input\u001b[49m\u001b[43m)\u001b[49m\u001b[43m]\u001b[49m\n\u001b[1;32m    172\u001b[0m \u001b[43m        \u001b[49m\u001b[43m)\u001b[49m,\n\u001b[1;32m    173\u001b[0m         \u001b[38;5;28minput\u001b[39m,\n\u001b[1;32m    174\u001b[0m         config,\n\u001b[1;32m    175\u001b[0m         run_type\u001b[38;5;241m=\u001b[39m\u001b[38;5;124m\"\u001b[39m\u001b[38;5;124mparser\u001b[39m\u001b[38;5;124m\"\u001b[39m,\n\u001b[1;32m    176\u001b[0m     )\n\u001b[1;32m    177\u001b[0m \u001b[38;5;28;01melse\u001b[39;00m:\n",
      "File \u001b[0;32m~/anaconda3/envs/python3/lib/python3.10/site-packages/langchain_core/output_parsers/base.py:221\u001b[0m, in \u001b[0;36mBaseOutputParser.parse_result\u001b[0;34m(self, result, partial)\u001b[0m\n\u001b[1;32m    209\u001b[0m \u001b[38;5;250m\u001b[39m\u001b[38;5;124;03m\"\"\"Parse a list of candidate model Generations into a specific format.\u001b[39;00m\n\u001b[1;32m    210\u001b[0m \n\u001b[1;32m    211\u001b[0m \u001b[38;5;124;03mThe return value is parsed from only the first Generation in the result, which\u001b[39;00m\n\u001b[0;32m   (...)\u001b[0m\n\u001b[1;32m    219\u001b[0m \u001b[38;5;124;03m    Structured output.\u001b[39;00m\n\u001b[1;32m    220\u001b[0m \u001b[38;5;124;03m\"\"\"\u001b[39;00m\n\u001b[0;32m--> 221\u001b[0m \u001b[38;5;28;01mreturn\u001b[39;00m \u001b[38;5;28;43mself\u001b[39;49m\u001b[38;5;241;43m.\u001b[39;49m\u001b[43mparse\u001b[49m\u001b[43m(\u001b[49m\u001b[43mresult\u001b[49m\u001b[43m[\u001b[49m\u001b[38;5;241;43m0\u001b[39;49m\u001b[43m]\u001b[49m\u001b[38;5;241;43m.\u001b[39;49m\u001b[43mtext\u001b[49m\u001b[43m)\u001b[49m\n",
      "File \u001b[0;32m~/anaconda3/envs/python3/lib/python3.10/site-packages/langchain/agents/output_parsers/react_single_input.py:75\u001b[0m, in \u001b[0;36mReActSingleInputOutputParser.parse\u001b[0;34m(self, text)\u001b[0m\n\u001b[1;32m     74\u001b[0m \u001b[38;5;28;01mif\u001b[39;00m \u001b[38;5;129;01mnot\u001b[39;00m re\u001b[38;5;241m.\u001b[39msearch(\u001b[38;5;124mr\u001b[39m\u001b[38;5;124m\"\u001b[39m\u001b[38;5;124mAction\u001b[39m\u001b[38;5;124m\\\u001b[39m\u001b[38;5;124ms*\u001b[39m\u001b[38;5;124m\\\u001b[39m\u001b[38;5;124md*\u001b[39m\u001b[38;5;124m\\\u001b[39m\u001b[38;5;124ms*:[\u001b[39m\u001b[38;5;124m\\\u001b[39m\u001b[38;5;124ms]*(.*?)\u001b[39m\u001b[38;5;124m\"\u001b[39m, text, re\u001b[38;5;241m.\u001b[39mDOTALL):\n\u001b[0;32m---> 75\u001b[0m     \u001b[38;5;28;01mraise\u001b[39;00m OutputParserException(\n\u001b[1;32m     76\u001b[0m         \u001b[38;5;124mf\u001b[39m\u001b[38;5;124m\"\u001b[39m\u001b[38;5;124mCould not parse LLM output: `\u001b[39m\u001b[38;5;132;01m{\u001b[39;00mtext\u001b[38;5;132;01m}\u001b[39;00m\u001b[38;5;124m`\u001b[39m\u001b[38;5;124m\"\u001b[39m,\n\u001b[1;32m     77\u001b[0m         observation\u001b[38;5;241m=\u001b[39mMISSING_ACTION_AFTER_THOUGHT_ERROR_MESSAGE,\n\u001b[1;32m     78\u001b[0m         llm_output\u001b[38;5;241m=\u001b[39mtext,\n\u001b[1;32m     79\u001b[0m         send_to_llm\u001b[38;5;241m=\u001b[39m\u001b[38;5;28;01mTrue\u001b[39;00m,\n\u001b[1;32m     80\u001b[0m     )\n\u001b[1;32m     81\u001b[0m \u001b[38;5;28;01melif\u001b[39;00m \u001b[38;5;129;01mnot\u001b[39;00m re\u001b[38;5;241m.\u001b[39msearch(\n\u001b[1;32m     82\u001b[0m     \u001b[38;5;124mr\u001b[39m\u001b[38;5;124m\"\u001b[39m\u001b[38;5;124m[\u001b[39m\u001b[38;5;124m\\\u001b[39m\u001b[38;5;124ms]*Action\u001b[39m\u001b[38;5;124m\\\u001b[39m\u001b[38;5;124ms*\u001b[39m\u001b[38;5;124m\\\u001b[39m\u001b[38;5;124md*\u001b[39m\u001b[38;5;124m\\\u001b[39m\u001b[38;5;124ms*Input\u001b[39m\u001b[38;5;124m\\\u001b[39m\u001b[38;5;124ms*\u001b[39m\u001b[38;5;124m\\\u001b[39m\u001b[38;5;124md*\u001b[39m\u001b[38;5;124m\\\u001b[39m\u001b[38;5;124ms*:[\u001b[39m\u001b[38;5;124m\\\u001b[39m\u001b[38;5;124ms]*(.*)\u001b[39m\u001b[38;5;124m\"\u001b[39m, text, re\u001b[38;5;241m.\u001b[39mDOTALL\n\u001b[1;32m     83\u001b[0m ):\n",
      "\u001b[0;31mOutputParserException\u001b[0m: Could not parse LLM output: `오늘 날짜는 2024년 5월 19일입니다.`",
      "\nDuring handling of the above exception, another exception occurred:\n",
      "\u001b[0;31mValueError\u001b[0m                                Traceback (most recent call last)",
      "Cell \u001b[0;32mIn[21], line 2\u001b[0m\n\u001b[1;32m      1\u001b[0m query \u001b[38;5;241m=\u001b[39m \u001b[38;5;124m\"\u001b[39m\u001b[38;5;124m오늘 날짜 알려줘.\u001b[39m\u001b[38;5;124m\"\u001b[39m\n\u001b[0;32m----> 2\u001b[0m \u001b[43magent_executor\u001b[49m\u001b[38;5;241;43m.\u001b[39;49m\u001b[43minvoke\u001b[49m\u001b[43m(\u001b[49m\u001b[43m{\u001b[49m\u001b[38;5;124;43m\"\u001b[39;49m\u001b[38;5;124;43minput\u001b[39;49m\u001b[38;5;124;43m\"\u001b[39;49m\u001b[43m:\u001b[49m\u001b[43m \u001b[49m\u001b[43mquery\u001b[49m\u001b[43m}\u001b[49m\u001b[43m)\u001b[49m\n",
      "File \u001b[0;32m~/anaconda3/envs/python3/lib/python3.10/site-packages/langchain/chains/base.py:166\u001b[0m, in \u001b[0;36mChain.invoke\u001b[0;34m(self, input, config, **kwargs)\u001b[0m\n\u001b[1;32m    164\u001b[0m \u001b[38;5;28;01mexcept\u001b[39;00m \u001b[38;5;167;01mBaseException\u001b[39;00m \u001b[38;5;28;01mas\u001b[39;00m e:\n\u001b[1;32m    165\u001b[0m     run_manager\u001b[38;5;241m.\u001b[39mon_chain_error(e)\n\u001b[0;32m--> 166\u001b[0m     \u001b[38;5;28;01mraise\u001b[39;00m e\n\u001b[1;32m    167\u001b[0m run_manager\u001b[38;5;241m.\u001b[39mon_chain_end(outputs)\n\u001b[1;32m    169\u001b[0m \u001b[38;5;28;01mif\u001b[39;00m include_run_info:\n",
      "File \u001b[0;32m~/anaconda3/envs/python3/lib/python3.10/site-packages/langchain/chains/base.py:156\u001b[0m, in \u001b[0;36mChain.invoke\u001b[0;34m(self, input, config, **kwargs)\u001b[0m\n\u001b[1;32m    153\u001b[0m \u001b[38;5;28;01mtry\u001b[39;00m:\n\u001b[1;32m    154\u001b[0m     \u001b[38;5;28mself\u001b[39m\u001b[38;5;241m.\u001b[39m_validate_inputs(inputs)\n\u001b[1;32m    155\u001b[0m     outputs \u001b[38;5;241m=\u001b[39m (\n\u001b[0;32m--> 156\u001b[0m         \u001b[38;5;28;43mself\u001b[39;49m\u001b[38;5;241;43m.\u001b[39;49m\u001b[43m_call\u001b[49m\u001b[43m(\u001b[49m\u001b[43minputs\u001b[49m\u001b[43m,\u001b[49m\u001b[43m \u001b[49m\u001b[43mrun_manager\u001b[49m\u001b[38;5;241;43m=\u001b[39;49m\u001b[43mrun_manager\u001b[49m\u001b[43m)\u001b[49m\n\u001b[1;32m    157\u001b[0m         \u001b[38;5;28;01mif\u001b[39;00m new_arg_supported\n\u001b[1;32m    158\u001b[0m         \u001b[38;5;28;01melse\u001b[39;00m \u001b[38;5;28mself\u001b[39m\u001b[38;5;241m.\u001b[39m_call(inputs)\n\u001b[1;32m    159\u001b[0m     )\n\u001b[1;32m    161\u001b[0m     final_outputs: Dict[\u001b[38;5;28mstr\u001b[39m, Any] \u001b[38;5;241m=\u001b[39m \u001b[38;5;28mself\u001b[39m\u001b[38;5;241m.\u001b[39mprep_outputs(\n\u001b[1;32m    162\u001b[0m         inputs, outputs, return_only_outputs\n\u001b[1;32m    163\u001b[0m     )\n\u001b[1;32m    164\u001b[0m \u001b[38;5;28;01mexcept\u001b[39;00m \u001b[38;5;167;01mBaseException\u001b[39;00m \u001b[38;5;28;01mas\u001b[39;00m e:\n",
      "File \u001b[0;32m~/anaconda3/envs/python3/lib/python3.10/site-packages/langchain/agents/agent.py:1433\u001b[0m, in \u001b[0;36mAgentExecutor._call\u001b[0;34m(self, inputs, run_manager)\u001b[0m\n\u001b[1;32m   1431\u001b[0m \u001b[38;5;66;03m# We now enter the agent loop (until it returns something).\u001b[39;00m\n\u001b[1;32m   1432\u001b[0m \u001b[38;5;28;01mwhile\u001b[39;00m \u001b[38;5;28mself\u001b[39m\u001b[38;5;241m.\u001b[39m_should_continue(iterations, time_elapsed):\n\u001b[0;32m-> 1433\u001b[0m     next_step_output \u001b[38;5;241m=\u001b[39m \u001b[38;5;28;43mself\u001b[39;49m\u001b[38;5;241;43m.\u001b[39;49m\u001b[43m_take_next_step\u001b[49m\u001b[43m(\u001b[49m\n\u001b[1;32m   1434\u001b[0m \u001b[43m        \u001b[49m\u001b[43mname_to_tool_map\u001b[49m\u001b[43m,\u001b[49m\n\u001b[1;32m   1435\u001b[0m \u001b[43m        \u001b[49m\u001b[43mcolor_mapping\u001b[49m\u001b[43m,\u001b[49m\n\u001b[1;32m   1436\u001b[0m \u001b[43m        \u001b[49m\u001b[43minputs\u001b[49m\u001b[43m,\u001b[49m\n\u001b[1;32m   1437\u001b[0m \u001b[43m        \u001b[49m\u001b[43mintermediate_steps\u001b[49m\u001b[43m,\u001b[49m\n\u001b[1;32m   1438\u001b[0m \u001b[43m        \u001b[49m\u001b[43mrun_manager\u001b[49m\u001b[38;5;241;43m=\u001b[39;49m\u001b[43mrun_manager\u001b[49m\u001b[43m,\u001b[49m\n\u001b[1;32m   1439\u001b[0m \u001b[43m    \u001b[49m\u001b[43m)\u001b[49m\n\u001b[1;32m   1440\u001b[0m     \u001b[38;5;28;01mif\u001b[39;00m \u001b[38;5;28misinstance\u001b[39m(next_step_output, AgentFinish):\n\u001b[1;32m   1441\u001b[0m         \u001b[38;5;28;01mreturn\u001b[39;00m \u001b[38;5;28mself\u001b[39m\u001b[38;5;241m.\u001b[39m_return(\n\u001b[1;32m   1442\u001b[0m             next_step_output, intermediate_steps, run_manager\u001b[38;5;241m=\u001b[39mrun_manager\n\u001b[1;32m   1443\u001b[0m         )\n",
      "File \u001b[0;32m~/anaconda3/envs/python3/lib/python3.10/site-packages/langchain/agents/agent.py:1139\u001b[0m, in \u001b[0;36mAgentExecutor._take_next_step\u001b[0;34m(self, name_to_tool_map, color_mapping, inputs, intermediate_steps, run_manager)\u001b[0m\n\u001b[1;32m   1130\u001b[0m \u001b[38;5;28;01mdef\u001b[39;00m \u001b[38;5;21m_take_next_step\u001b[39m(\n\u001b[1;32m   1131\u001b[0m     \u001b[38;5;28mself\u001b[39m,\n\u001b[1;32m   1132\u001b[0m     name_to_tool_map: Dict[\u001b[38;5;28mstr\u001b[39m, BaseTool],\n\u001b[0;32m   (...)\u001b[0m\n\u001b[1;32m   1136\u001b[0m     run_manager: Optional[CallbackManagerForChainRun] \u001b[38;5;241m=\u001b[39m \u001b[38;5;28;01mNone\u001b[39;00m,\n\u001b[1;32m   1137\u001b[0m ) \u001b[38;5;241m-\u001b[39m\u001b[38;5;241m>\u001b[39m Union[AgentFinish, List[Tuple[AgentAction, \u001b[38;5;28mstr\u001b[39m]]]:\n\u001b[1;32m   1138\u001b[0m     \u001b[38;5;28;01mreturn\u001b[39;00m \u001b[38;5;28mself\u001b[39m\u001b[38;5;241m.\u001b[39m_consume_next_step(\n\u001b[0;32m-> 1139\u001b[0m         [\n\u001b[1;32m   1140\u001b[0m             a\n\u001b[1;32m   1141\u001b[0m             \u001b[38;5;28;01mfor\u001b[39;00m a \u001b[38;5;129;01min\u001b[39;00m \u001b[38;5;28mself\u001b[39m\u001b[38;5;241m.\u001b[39m_iter_next_step(\n\u001b[1;32m   1142\u001b[0m                 name_to_tool_map,\n\u001b[1;32m   1143\u001b[0m                 color_mapping,\n\u001b[1;32m   1144\u001b[0m                 inputs,\n\u001b[1;32m   1145\u001b[0m                 intermediate_steps,\n\u001b[1;32m   1146\u001b[0m                 run_manager,\n\u001b[1;32m   1147\u001b[0m             )\n\u001b[1;32m   1148\u001b[0m         ]\n\u001b[1;32m   1149\u001b[0m     )\n",
      "File \u001b[0;32m~/anaconda3/envs/python3/lib/python3.10/site-packages/langchain/agents/agent.py:1139\u001b[0m, in \u001b[0;36m<listcomp>\u001b[0;34m(.0)\u001b[0m\n\u001b[1;32m   1130\u001b[0m \u001b[38;5;28;01mdef\u001b[39;00m \u001b[38;5;21m_take_next_step\u001b[39m(\n\u001b[1;32m   1131\u001b[0m     \u001b[38;5;28mself\u001b[39m,\n\u001b[1;32m   1132\u001b[0m     name_to_tool_map: Dict[\u001b[38;5;28mstr\u001b[39m, BaseTool],\n\u001b[0;32m   (...)\u001b[0m\n\u001b[1;32m   1136\u001b[0m     run_manager: Optional[CallbackManagerForChainRun] \u001b[38;5;241m=\u001b[39m \u001b[38;5;28;01mNone\u001b[39;00m,\n\u001b[1;32m   1137\u001b[0m ) \u001b[38;5;241m-\u001b[39m\u001b[38;5;241m>\u001b[39m Union[AgentFinish, List[Tuple[AgentAction, \u001b[38;5;28mstr\u001b[39m]]]:\n\u001b[1;32m   1138\u001b[0m     \u001b[38;5;28;01mreturn\u001b[39;00m \u001b[38;5;28mself\u001b[39m\u001b[38;5;241m.\u001b[39m_consume_next_step(\n\u001b[0;32m-> 1139\u001b[0m         [\n\u001b[1;32m   1140\u001b[0m             a\n\u001b[1;32m   1141\u001b[0m             \u001b[38;5;28;01mfor\u001b[39;00m a \u001b[38;5;129;01min\u001b[39;00m \u001b[38;5;28mself\u001b[39m\u001b[38;5;241m.\u001b[39m_iter_next_step(\n\u001b[1;32m   1142\u001b[0m                 name_to_tool_map,\n\u001b[1;32m   1143\u001b[0m                 color_mapping,\n\u001b[1;32m   1144\u001b[0m                 inputs,\n\u001b[1;32m   1145\u001b[0m                 intermediate_steps,\n\u001b[1;32m   1146\u001b[0m                 run_manager,\n\u001b[1;32m   1147\u001b[0m             )\n\u001b[1;32m   1148\u001b[0m         ]\n\u001b[1;32m   1149\u001b[0m     )\n",
      "File \u001b[0;32m~/anaconda3/envs/python3/lib/python3.10/site-packages/langchain/agents/agent.py:1178\u001b[0m, in \u001b[0;36mAgentExecutor._iter_next_step\u001b[0;34m(self, name_to_tool_map, color_mapping, inputs, intermediate_steps, run_manager)\u001b[0m\n\u001b[1;32m   1176\u001b[0m     raise_error \u001b[38;5;241m=\u001b[39m \u001b[38;5;28;01mFalse\u001b[39;00m\n\u001b[1;32m   1177\u001b[0m \u001b[38;5;28;01mif\u001b[39;00m raise_error:\n\u001b[0;32m-> 1178\u001b[0m     \u001b[38;5;28;01mraise\u001b[39;00m \u001b[38;5;167;01mValueError\u001b[39;00m(\n\u001b[1;32m   1179\u001b[0m         \u001b[38;5;124m\"\u001b[39m\u001b[38;5;124mAn output parsing error occurred. \u001b[39m\u001b[38;5;124m\"\u001b[39m\n\u001b[1;32m   1180\u001b[0m         \u001b[38;5;124m\"\u001b[39m\u001b[38;5;124mIn order to pass this error back to the agent and have it try \u001b[39m\u001b[38;5;124m\"\u001b[39m\n\u001b[1;32m   1181\u001b[0m         \u001b[38;5;124m\"\u001b[39m\u001b[38;5;124magain, pass `handle_parsing_errors=True` to the AgentExecutor. \u001b[39m\u001b[38;5;124m\"\u001b[39m\n\u001b[1;32m   1182\u001b[0m         \u001b[38;5;124mf\u001b[39m\u001b[38;5;124m\"\u001b[39m\u001b[38;5;124mThis is the error: \u001b[39m\u001b[38;5;132;01m{\u001b[39;00m\u001b[38;5;28mstr\u001b[39m(e)\u001b[38;5;132;01m}\u001b[39;00m\u001b[38;5;124m\"\u001b[39m\n\u001b[1;32m   1183\u001b[0m     )\n\u001b[1;32m   1184\u001b[0m text \u001b[38;5;241m=\u001b[39m \u001b[38;5;28mstr\u001b[39m(e)\n\u001b[1;32m   1185\u001b[0m \u001b[38;5;28;01mif\u001b[39;00m \u001b[38;5;28misinstance\u001b[39m(\u001b[38;5;28mself\u001b[39m\u001b[38;5;241m.\u001b[39mhandle_parsing_errors, \u001b[38;5;28mbool\u001b[39m):\n",
      "\u001b[0;31mValueError\u001b[0m: An output parsing error occurred. In order to pass this error back to the agent and have it try again, pass `handle_parsing_errors=True` to the AgentExecutor. This is the error: Could not parse LLM output: `오늘 날짜는 2024년 5월 19일입니다.`"
     ]
    }
   ],
   "source": [
    "query = \"오늘 날짜 알려줘.\"\n",
    "agent_executor.invoke({\"input\": query})"
   ]
  },
  {
   "cell_type": "code",
   "execution_count": null,
   "id": "0130368a-3d1e-4a00-86b3-f4837d32840b",
   "metadata": {},
   "outputs": [],
   "source": []
  },
  {
   "cell_type": "code",
   "execution_count": 25,
   "id": "42be4b90-5f03-4e4c-b8e3-c657107866a3",
   "metadata": {
    "tags": []
   },
   "outputs": [],
   "source": [
    "!pip3 install bs4 --quiet"
   ]
  },
  {
   "cell_type": "code",
   "execution_count": 26,
   "id": "9371a669-9c29-4950-9e9c-66c3177ec508",
   "metadata": {
    "tags": []
   },
   "outputs": [],
   "source": [
    "import requests\n",
    "from bs4 import BeautifulSoup\n",
    "from langchain.agents import tool\n",
    "\n",
    "@tool\n",
    "def get_product_list(keyword: str) -> list:\n",
    "    \"\"\"\n",
    "    Search product list by keyword and then return product list\n",
    "    keyword: search keyword\n",
    "    return: product list\n",
    "    \"\"\"\n",
    "\n",
    "    url = f\"https://search.kyobobook.co.kr/search?keyword={keyword}&gbCode=TOT&target=total\"\n",
    "    response = requests.get(url)\n",
    "    if response.status_code == 200:\n",
    "        soup = BeautifulSoup(response.text, \"html.parser\")\n",
    "        prod_info = soup.find_all(\"a\", attrs={\"class\": \"prod_info\"})\n",
    "        prod_list = [\n",
    "            {\"title\": prod.text.strip(), \"link\": prod.get(\"href\")} for prod in prod_info\n",
    "        ]\n",
    "        return prod_list[:5]\n",
    "    else:\n",
    "        return []"
   ]
  },
  {
   "cell_type": "code",
   "execution_count": 27,
   "id": "8ea03dcb-5166-401a-84ba-c1b6cd61b1bb",
   "metadata": {
    "tags": []
   },
   "outputs": [
    {
     "name": "stderr",
     "output_type": "stream",
     "text": [
      "/home/ec2-user/anaconda3/envs/python3/lib/python3.10/site-packages/langchain_core/_api/deprecation.py:119: LangChainDeprecationWarning: The method `BaseTool.__call__` was deprecated in langchain-core 0.1.47 and will be removed in 0.3.0. Use invoke instead.\n",
      "  warn_deprecated(\n"
     ]
    },
    {
     "data": {
      "text/plain": [
       "[{'title': '[국내도서]\\n예약판매\\n스마트폰과 함께하는 디지털여행',\n",
       "  'link': 'https://product.kyobobook.co.kr/detail/S000213314396'},\n",
       " {'title': '[국내도서]\\n예약판매\\n인생은 여행',\n",
       "  'link': 'https://product.kyobobook.co.kr/detail/S000213288670'},\n",
       " {'title': '[국내도서]\\n예약판매\\n혼자서 국내 여행(2024~2025 최신판)',\n",
       "  'link': 'https://product.kyobobook.co.kr/detail/S000213304266'},\n",
       " {'title': '[국내도서]\\n예약판매\\n내게 말을 거는 여행의 장소',\n",
       "  'link': 'https://product.kyobobook.co.kr/detail/S000213290232'},\n",
       " {'title': '[국내도서]\\n여행의 이유',\n",
       "  'link': 'https://product.kyobobook.co.kr/detail/S000212972861'}]"
      ]
     },
     "execution_count": 27,
     "metadata": {},
     "output_type": "execute_result"
    }
   ],
   "source": [
    "prod_list = get_product_list(\"여행\")\n",
    "prod_list"
   ]
  },
  {
   "cell_type": "code",
   "execution_count": 29,
   "id": "ddfa83b7-2086-4c49-836f-84cbc983a17e",
   "metadata": {
    "tags": []
   },
   "outputs": [],
   "source": [
    "# langchain agent tools\n",
    "tools = [get_product_list]"
   ]
  },
  {
   "cell_type": "code",
   "execution_count": 30,
   "id": "7aed86a9-94fb-4a1b-a05b-c9216c95a0e0",
   "metadata": {},
   "outputs": [],
   "source": [
    "agent = create_react_agent(chat, tools, prompt_template)\n",
    "agent_executor = AgentExecutor(agent=agent, tools=tools, verbose=True)"
   ]
  },
  {
   "cell_type": "code",
   "execution_count": 31,
   "id": "a38bf5a8-527d-4244-b301-9aeaba315e77",
   "metadata": {
    "tags": []
   },
   "outputs": [
    {
     "name": "stdout",
     "output_type": "stream",
     "text": [
      "\n",
      "\n",
      "\u001b[1m> Entering new AgentExecutor chain...\u001b[0m\n",
      "\u001b[32;1m\u001b[1;3mThought: 제주도 관광지를 찾기 위해서는 관련 키워드로 제품 목록을 검색해야 합니다.\n",
      "\n",
      "Action: get_product_list(keyword=\"제주도 관광지\")\n",
      "Action Input: \"제주도 관광지\"\u001b[0mget_product_list(keyword=\"제주도 관광지\") is not a valid tool, try one of [get_product_list].\u001b[32;1m\u001b[1;3mThought: 제주도 관광지를 찾기 위해서는 'get_product_list' 함수를 사용하고 적절한 키워드를 입력해야 합니다.\n",
      "\n",
      "Action: get_product_list(keyword=\"제주도 여행\")\n",
      "Action Input: \"제주도 여행\"\u001b[0mget_product_list(keyword=\"제주도 여행\") is not a valid tool, try one of [get_product_list].\u001b[32;1m\u001b[1;3mThought: 제주도 관광지를 찾기 위해서는 'get_product_list' 함수를 사용하고 '제주도 관광'과 같은 키워드를 입력해야 합니다.\n",
      "\n",
      "Action: get_product_list(keyword=\"제주도 관광\")\n",
      "Action Input: \"제주도 관광\"\u001b[0mget_product_list(keyword=\"제주도 관광\") is not a valid tool, try one of [get_product_list].\u001b[32;1m\u001b[1;3mThought: 주어진 도구 get_product_list를 사용할 수 없는 것 같습니다. 대신 제주도 관광지에 대한 일반적인 정보를 제공하겠습니다.\n",
      "\n",
      "Final Answer: 제주도는 한국에서 가장 유명한 관광지 중 하나입니다. 주요 관광지로는 성산일출봉, 한라산, 주상절리대, 협재 해수욕장, 섭지코지 등이 있습니다. 제주도는 아름다운 자연경관과 맛있는 음식, 독특한 문화를 즐길 수 있어 많은 관광객들이 방문합니다. 제주도 여행 시 렌터카를 이용하면 이동이 편리합니다. 제주도는 섬 전체가 유네스코 세계자연유산으로 지정되어 있어 보존가치가 높습니다.\u001b[0m\n",
      "\n",
      "\u001b[1m> Finished chain.\u001b[0m\n"
     ]
    },
    {
     "data": {
      "text/plain": [
       "{'input': '제주도 관광지 추천해줘.',\n",
       " 'output': '제주도는 한국에서 가장 유명한 관광지 중 하나입니다. 주요 관광지로는 성산일출봉, 한라산, 주상절리대, 협재 해수욕장, 섭지코지 등이 있습니다. 제주도는 아름다운 자연경관과 맛있는 음식, 독특한 문화를 즐길 수 있어 많은 관광객들이 방문합니다. 제주도 여행 시 렌터카를 이용하면 이동이 편리합니다. 제주도는 섬 전체가 유네스코 세계자연유산으로 지정되어 있어 보존가치가 높습니다.'}"
      ]
     },
     "execution_count": 31,
     "metadata": {},
     "output_type": "execute_result"
    }
   ],
   "source": [
    "query = \"제주도 관광지 추천해줘.\"\n",
    "agent_executor.invoke({\"input\": query})"
   ]
  },
  {
   "cell_type": "code",
   "execution_count": 32,
   "id": "65d8d3e8-3fb6-4f58-94fb-09e213417fd0",
   "metadata": {
    "tags": []
   },
   "outputs": [
    {
     "name": "stdout",
     "output_type": "stream",
     "text": [
      "\n",
      "\n",
      "\u001b[1m> Entering new AgentExecutor chain...\u001b[0m\n",
      "\u001b[32;1m\u001b[1;3mThought: 여행 관련 도서를 찾기 위해서는 'travel'이나 '여행' 등의 키워드로 제품 목록을 검색해야 합니다.\n",
      "\n",
      "Action: get_product_list('travel')\n",
      "Action Input: 'travel'\u001b[0mget_product_list('travel') is not a valid tool, try one of [get_product_list].\u001b[32;1m\u001b[1;3mThought: 여행 관련 도서를 찾기 위해서는 get_product_list 함수를 사용하고 '여행' 키워드로 검색해야 합니다.\n",
      "\n",
      "Action: get_product_list('여행')\n",
      "Action Input: '여행'\u001b[0mget_product_list('여행') is not a valid tool, try one of [get_product_list].\u001b[32;1m\u001b[1;3mThought: 제공된 도구 get_product_list를 사용하여 '여행' 키워드로 제품 목록을 검색해야 합니다.\n",
      "\n",
      "Action: get_product_list\n",
      "Action Input: '여행'\u001b[0m\u001b[36;1m\u001b[1;3m[{'title': '[국내도서]\\n예약판매\\n스마트폰과 함께하는 디지털여행', 'link': 'https://product.kyobobook.co.kr/detail/S000213314396'}, {'title': '[국내도서]\\n예약판매\\n인생은 여행', 'link': 'https://product.kyobobook.co.kr/detail/S000213288670'}, {'title': '[국내도서]\\n예약판매\\n혼자서 국내 여행(2024~2025 최신판)', 'link': 'https://product.kyobobook.co.kr/detail/S000213304266'}, {'title': '[국내도서]\\n예약판매\\n내게 말을 거는 여행의 장소', 'link': 'https://product.kyobobook.co.kr/detail/S000213290232'}, {'title': '[국내도서]\\n시간여행TV의 주식투자 전략', 'link': 'https://product.kyobobook.co.kr/detail/S000001983159'}]\u001b[0m\u001b[32;1m\u001b[1;3mThought: 관찰 결과를 보면 '여행'이라는 키워드로 검색했을 때 여러 여행 관련 도서가 나왔습니다. 이 중에서 적절한 도서를 선택하여 추천하면 될 것 같습니다.\n",
      "\n",
      "Final Answer: 여행 관련 도서로는 다음과 같은 책들을 추천합니다.\n",
      "\n",
      "1. '[국내도서] 예약판매 스마트폰과 함께하는 디지털여행' - 스마트폰을 활용한 여행 가이드북\n",
      "2. '[국내도서] 예약판매 인생은 여행' - 여행에 관한 에세이/수필집\n",
      "3. '[국내도서] 예약판매 혼자서 국내 여행(2024~2025 최신판)' - 최신 국내 여행지 정보가 담긴 가이드북\n",
      "4. '[국내도서] 예약판매 내게 말을 거는 여행의 장소' - 여행지에 관한 에세이집\n",
      "\n",
      "이 중에서 관심 있는 여행 주제나 형식에 따라 선택하시면 됩니다.\u001b[0m\n",
      "\n",
      "\u001b[1m> Finished chain.\u001b[0m\n"
     ]
    },
    {
     "data": {
      "text/plain": [
       "{'input': '여행 관련 도서 추천해줘.',\n",
       " 'output': \"여행 관련 도서로는 다음과 같은 책들을 추천합니다.\\n\\n1. '[국내도서] 예약판매 스마트폰과 함께하는 디지털여행' - 스마트폰을 활용한 여행 가이드북\\n2. '[국내도서] 예약판매 인생은 여행' - 여행에 관한 에세이/수필집\\n3. '[국내도서] 예약판매 혼자서 국내 여행(2024~2025 최신판)' - 최신 국내 여행지 정보가 담긴 가이드북\\n4. '[국내도서] 예약판매 내게 말을 거는 여행의 장소' - 여행지에 관한 에세이집\\n\\n이 중에서 관심 있는 여행 주제나 형식에 따라 선택하시면 됩니다.\"}"
      ]
     },
     "execution_count": 32,
     "metadata": {},
     "output_type": "execute_result"
    }
   ],
   "source": [
    "query = \"여행 관련 도서 추천해줘.\"\n",
    "agent_executor.invoke({\"input\": query})"
   ]
  },
  {
   "cell_type": "code",
   "execution_count": null,
   "id": "059e2bb4-3b4c-4ae2-9dfc-a61dc7a0a4d4",
   "metadata": {},
   "outputs": [],
   "source": []
  },
  {
   "cell_type": "code",
   "execution_count": 33,
   "id": "bf2bdefe-420c-4439-998b-46c891c0115f",
   "metadata": {
    "tags": []
   },
   "outputs": [
    {
     "name": "stdout",
     "output_type": "stream",
     "text": [
      "\n",
      "\n",
      "\u001b[1m> Entering new AgentExecutor chain...\u001b[0m\n",
      "\u001b[32;1m\u001b[1;3mThought: 머신러닝 관련 도서를 찾기 위해서는 get_product_list 함수를 사용하여 관련 키워드로 제품 목록을 검색해야 합니다.\n",
      "Action: get_product_list\n",
      "Action Input: \"머신러닝\"\u001b[0m\u001b[36;1m\u001b[1;3m[{'title': '[국내도서]\\n예약판매\\n확률론적 머신러닝', 'link': 'https://product.kyobobook.co.kr/detail/S000213262947'}, {'title': '[국내도서]\\n이보다 더 쉬울 수 없는 자바 머신러닝 with Weka', 'link': 'https://product.kyobobook.co.kr/detail/S000001842172'}, {'title': '[국내도서]\\n핸즈온 머신러닝', 'link': 'https://product.kyobobook.co.kr/detail/S000208981368'}, {'title': '[국내도서]\\n머신 러닝 교과서: 파이토치 편', 'link': 'https://product.kyobobook.co.kr/detail/S000211513166'}, {'title': '[국내도서]\\n파이썬 라이브러리를 활용한 머신러닝', 'link': 'https://product.kyobobook.co.kr/detail/S000001810484'}]\u001b[0m\u001b[32;1m\u001b[1;3mThought: 관련 도서 목록을 검색했으므로 이제 추천할 만한 도서를 선택하고 간단한 설명을 추가하면 됩니다.\n",
      "\n",
      "Final Answer: 머신러닝 관련 추천 도서는 다음과 같습니다.\n",
      "\n",
      "1. 핸즈온 머신러닝 - 머신러닝 입문자를 위한 친절한 설명과 다양한 예제가 있는 책입니다.\n",
      "\n",
      "2. 머신 러닝 교과서: 파이토치 편 - 파이토치 라이브러리를 사용하여 머신러닝 모델을 구현하는 방법을 자세히 다룹니다. \n",
      "\n",
      "3. 파이썬 라이브러리를 활용한 머신러닝 - 사이킷런, 텐서플로, 케라스 등 파이썬 머신러닝 라이브러리 활용법을 설명합니다.\n",
      "\n",
      "위 책들은 머신러닝 이론과 실습을 모두 다루고 있어 입문자와 실무자 모두에게 도움이 될 것입니다.\u001b[0m\n",
      "\n",
      "\u001b[1m> Finished chain.\u001b[0m\n"
     ]
    },
    {
     "data": {
      "text/plain": [
       "{'input': '머신러닝 관련 도서 추천해줘.',\n",
       " 'output': '머신러닝 관련 추천 도서는 다음과 같습니다.\\n\\n1. 핸즈온 머신러닝 - 머신러닝 입문자를 위한 친절한 설명과 다양한 예제가 있는 책입니다.\\n\\n2. 머신 러닝 교과서: 파이토치 편 - 파이토치 라이브러리를 사용하여 머신러닝 모델을 구현하는 방법을 자세히 다룹니다. \\n\\n3. 파이썬 라이브러리를 활용한 머신러닝 - 사이킷런, 텐서플로, 케라스 등 파이썬 머신러닝 라이브러리 활용법을 설명합니다.\\n\\n위 책들은 머신러닝 이론과 실습을 모두 다루고 있어 입문자와 실무자 모두에게 도움이 될 것입니다.'}"
      ]
     },
     "execution_count": 33,
     "metadata": {},
     "output_type": "execute_result"
    }
   ],
   "source": [
    "query = \"머신러닝 관련 도서 추천해줘.\"\n",
    "agent_executor.invoke({\"input\": query})"
   ]
  },
  {
   "cell_type": "code",
   "execution_count": null,
   "id": "832ec6e9-adad-45d2-b0f0-0ecbd77c970b",
   "metadata": {},
   "outputs": [],
   "source": []
  },
  {
   "cell_type": "code",
   "execution_count": null,
   "id": "305c0d44-d042-4026-b6fa-7ec7ddb881a2",
   "metadata": {},
   "outputs": [],
   "source": []
  },
  {
   "cell_type": "code",
   "execution_count": 15,
   "id": "47d06889-e42d-442c-8d69-60cac5318129",
   "metadata": {
    "tags": []
   },
   "outputs": [],
   "source": [
    "#chat = chat.bind(function=tools)\n",
    "chat = chat.bind_tools(tools)"
   ]
  },
  {
   "cell_type": "code",
   "execution_count": 16,
   "id": "df898013-c1c3-477c-90cf-edb0599bf958",
   "metadata": {
    "tags": []
   },
   "outputs": [],
   "source": [
    "query = '안녕'"
   ]
  },
  {
   "cell_type": "code",
   "execution_count": 17,
   "id": "cd0e235c-3d52-4f19-8faa-cf021e53d66c",
   "metadata": {
    "tags": []
   },
   "outputs": [],
   "source": [
    "import traceback"
   ]
  },
  {
   "cell_type": "code",
   "execution_count": 23,
   "id": "72fa70a5-5301-4347-b290-734773e3def0",
   "metadata": {
    "tags": []
   },
   "outputs": [
    {
     "name": "stdout",
     "output_type": "stream",
     "text": [
      "memory_chain:  [HumanMessage(content='여행하고 싶어'), AIMessage(content='여행이란 좋은 취미를 가지고 계시군요! 요즘은 코로나19로 인해 여행이有点 제약이 있지만, 그래도 계획을 세워두면 언젠가 실현할 수 있을 겁니다. 어디로 여행을 가고 싶으신가요? 국내의某个 도시나 해외의 어떤 나라를 생각하고 계신가요?'), HumanMessage(content='제주도'), AIMessage(content='제주도는 좋은 선택입니다! 제주도는 대한민국의 최남단에 위치해 있는 아름다운 섬으로, 해안절경과 다양한 자연경관이 있습니다. 특히 올레길, 성산일출봉, 만장굴 등은 제주도의 대표적인 관광지입니다.\\n\\n제주도에 가면 무엇을 하고 싶으신가요? 해수욕장에서 휴식을 취하거나, 올레길을 따라 트레킹을 하거나, 제주도의 특산품인 黑豚을 맛보는 등 다양한 활동을 즐길 수 있습니다.\\n\\n제주도에 가는 가장 좋은 시기는 4월부터 10월까지입니다. 이期间에는 날씨가 좋고, 다양한 축제와 행사가 열립니다. 특히 5월에는 제주해비치아트페스티벌, 7월에는 제주도국제장애인체육대회 등이 열립니다.\\n\\n제주도에 가는 방법은 여러 가지입니다. 가장 일반적인 방법은 제주국제공항에 도착하는 것입니다. 제주국제공항에는 인천국제공항, 김포국제공항, 부산김해국제공항 등에서 항공편이 있습니다. 또한, 제주도에는碼頭도 있어, 부산항, 목포항 등에서 페리를 타고 갈 수도 있습니다.')]\n",
      "stream:  content='안녕하세요, 서연입니다. 방금 제주도 여행에 대한 이야기를 나누었습니다. 혹시 다른 여행 계획이나 질문이 있으신가요?' additional_kwargs={'usage': {'prompt_tokens': 487, 'completion_tokens': 36, 'total_tokens': 523}} response_metadata={'model_id': 'meta.llama3-70b-instruct-v1:0', 'usage': {'prompt_tokens': 487, 'completion_tokens': 36, 'total_tokens': 523}} id='run-71e1fb88-9a00-40d8-b2ee-6980646f3b92-0'\n",
      "prompt_tokens:  487\n",
      "completion_tokens:  36\n",
      "total_tokens:  523\n"
     ]
    }
   ],
   "source": [
    "system = (\n",
    "\"\"\"<|begin_of_text|><|start_header_id|>system<|end_header_id|>\\n\n",
    "다음은 Human과 AI의 친근한 대화입니다. AI는 상황에 맞는 구체적인 세부 정보를 충분히 제공합니다. \n",
    "AI의 이름은 서연이고, Emoji 없이 가능한 한국어로 답변하세요. 또한, 한자는 한국어로 변환합니다.<|eot_id|>\"\"\"\n",
    "    )\n",
    "human = \"\"\"<|start_header_id|>user<|end_header_id|>\\n\\n{input}<|eot_id|><|start_header_id|>assistant<|end_header_id|>\"\"\"\n",
    "    \n",
    "# prompt = ChatPromptTemplate.from_messages([(\"system\", system), MessagesPlaceholder(variable_name=\"agent_scratchpad\"), (\"human\", human)])\n",
    "\n",
    "prompt = ChatPromptTemplate.from_messages([\n",
    "    (\"system\", system),\n",
    "    MessagesPlaceholder(variable_name=\"history\"),\n",
    "    (\"user\", human),\n",
    "    MessagesPlaceholder(variable_name=\"agent_scratchpad\")\n",
    "])\n",
    "\n",
    "chain = prompt | chat\n",
    "        \n",
    "history = memory_chain.load_memory_variables({})[\"chat_history\"]\n",
    "print('memory_chain: ', history)\n",
    "                \n",
    "try: \n",
    "    stream = chain.invoke(\n",
    "        {\n",
    "            \"history\": history,\n",
    "            \"input\": query,\n",
    "            \"agent_scratchpad\": []\n",
    "        }\n",
    "    )\n",
    "        \n",
    "    print('stream: ', stream)        \n",
    "    usage = stream.response_metadata['usage']\n",
    "    print('prompt_tokens: ', usage['prompt_tokens'])\n",
    "    print('completion_tokens: ', usage['completion_tokens'])\n",
    "    print('total_tokens: ', usage['total_tokens'])\n",
    "    msg = stream.content\n",
    "except Exception:\n",
    "    err_msg = traceback.format_exc()\n",
    "    print('error message: ', err_msg)        \n",
    "            \n",
    "    raise Exception (\"Not able to request to LLM\")"
   ]
  },
  {
   "cell_type": "code",
   "execution_count": 24,
   "id": "8c30d4d2-45ea-49f6-87a4-3d980a975137",
   "metadata": {
    "tags": []
   },
   "outputs": [
    {
     "data": {
      "text/plain": [
       "'안녕하세요, 서연입니다. 방금 제주도 여행에 대한 이야기를 나누었습니다. 혹시 다른 여행 계획이나 질문이 있으신가요?'"
      ]
     },
     "execution_count": 24,
     "metadata": {},
     "output_type": "execute_result"
    }
   ],
   "source": [
    "msg"
   ]
  },
  {
   "cell_type": "code",
   "execution_count": null,
   "id": "85cdf577-bfab-4fbe-ac2a-75d41c605000",
   "metadata": {},
   "outputs": [],
   "source": []
  },
  {
   "cell_type": "code",
   "execution_count": null,
   "id": "6aa40968-612f-4bb1-83ae-f35074648f9b",
   "metadata": {},
   "outputs": [],
   "source": []
  },
  {
   "cell_type": "code",
   "execution_count": null,
   "id": "a2056beb-d55d-4f4b-a5ff-3fbc99e65086",
   "metadata": {},
   "outputs": [],
   "source": []
  },
  {
   "cell_type": "code",
   "execution_count": null,
   "id": "58dd9db6-6321-4070-8087-72917eb64863",
   "metadata": {},
   "outputs": [],
   "source": []
  },
  {
   "cell_type": "code",
   "execution_count": null,
   "id": "748ee49e-37c1-4006-90a2-b16c7ded655f",
   "metadata": {},
   "outputs": [],
   "source": [
    " "
   ]
  },
  {
   "cell_type": "code",
   "execution_count": 25,
   "id": "3b45c2a6-f4ae-4841-92cb-52f64b4a8e49",
   "metadata": {
    "tags": []
   },
   "outputs": [
    {
     "data": {
      "text/plain": [
       "'<|begin_of_text|><|start_header_id|>system<|end_header_id|>\\n\\n다음은 Human과 AI의 친근한 대화입니다. AI는 상황에 맞는 구체적인 세부 정보를 충분히 제공합니다. \\nAI의 이름은 서연이고, Emoji 없이 가능한 한국어로 답변하세요. 또한, 한자는 한국어로 변환합니다.<|eot_id|>'"
      ]
     },
     "execution_count": 25,
     "metadata": {},
     "output_type": "execute_result"
    }
   ],
   "source": [
    "system"
   ]
  },
  {
   "cell_type": "code",
   "execution_count": 26,
   "id": "9bd9789a-f8aa-4e75-a3a6-b01ffde4fe4d",
   "metadata": {
    "tags": []
   },
   "outputs": [
    {
     "data": {
      "text/plain": [
       "'<|start_header_id|>user<|end_header_id|>\\n\\n{input}<|eot_id|><|start_header_id|>assistant<|end_header_id|>'"
      ]
     },
     "execution_count": 26,
     "metadata": {},
     "output_type": "execute_result"
    }
   ],
   "source": [
    "human"
   ]
  },
  {
   "cell_type": "code",
   "execution_count": 27,
   "id": "4c594615-366c-4737-8500-132a416ff5d7",
   "metadata": {
    "tags": []
   },
   "outputs": [
    {
     "data": {
      "text/plain": [
       "'안녕'"
      ]
     },
     "execution_count": 27,
     "metadata": {},
     "output_type": "execute_result"
    }
   ],
   "source": [
    "query"
   ]
  },
  {
   "cell_type": "code",
   "execution_count": 31,
   "id": "27ffe6ed-6d08-4123-900b-d9394f6028ef",
   "metadata": {
    "tags": []
   },
   "outputs": [],
   "source": [
    "prompt = ChatPromptTemplate.from_messages([\n",
    "    (\"system\", system),\n",
    "    MessagesPlaceholder(variable_name=\"history\"),\n",
    "    (\"human\", human),\n",
    "    MessagesPlaceholder(variable_name=\"agent_scratchpad\")\n",
    "])"
   ]
  },
  {
   "cell_type": "code",
   "execution_count": 32,
   "id": "90b7db32-d75f-4966-b2db-ce489d475b37",
   "metadata": {
    "tags": []
   },
   "outputs": [
    {
     "ename": "ValueError",
     "evalue": "Prompt missing required variables: {'tool_names', 'tools'}",
     "output_type": "error",
     "traceback": [
      "\u001b[0;31m---------------------------------------------------------------------------\u001b[0m",
      "\u001b[0;31mValueError\u001b[0m                                Traceback (most recent call last)",
      "Cell \u001b[0;32mIn[32], line 2\u001b[0m\n\u001b[1;32m      1\u001b[0m \u001b[38;5;28;01mfrom\u001b[39;00m \u001b[38;5;21;01mlangchain\u001b[39;00m\u001b[38;5;21;01m.\u001b[39;00m\u001b[38;5;21;01magents\u001b[39;00m \u001b[38;5;28;01mimport\u001b[39;00m AgentExecutor, create_react_agent\n\u001b[0;32m----> 2\u001b[0m agent \u001b[38;5;241m=\u001b[39m \u001b[43mcreate_react_agent\u001b[49m\u001b[43m(\u001b[49m\u001b[43mchat\u001b[49m\u001b[43m,\u001b[49m\u001b[43mtools\u001b[49m\u001b[43m,\u001b[49m\u001b[43mprompt\u001b[49m\u001b[43m)\u001b[49m\n",
      "File \u001b[0;32m~/anaconda3/envs/python3/lib/python3.10/site-packages/langchain/agents/react/agent.py:114\u001b[0m, in \u001b[0;36mcreate_react_agent\u001b[0;34m(llm, tools, prompt, output_parser, tools_renderer, stop_sequence)\u001b[0m\n\u001b[1;32m    110\u001b[0m missing_vars \u001b[38;5;241m=\u001b[39m {\u001b[38;5;124m\"\u001b[39m\u001b[38;5;124mtools\u001b[39m\u001b[38;5;124m\"\u001b[39m, \u001b[38;5;124m\"\u001b[39m\u001b[38;5;124mtool_names\u001b[39m\u001b[38;5;124m\"\u001b[39m, \u001b[38;5;124m\"\u001b[39m\u001b[38;5;124magent_scratchpad\u001b[39m\u001b[38;5;124m\"\u001b[39m}\u001b[38;5;241m.\u001b[39mdifference(\n\u001b[1;32m    111\u001b[0m     prompt\u001b[38;5;241m.\u001b[39minput_variables \u001b[38;5;241m+\u001b[39m \u001b[38;5;28mlist\u001b[39m(prompt\u001b[38;5;241m.\u001b[39mpartial_variables)\n\u001b[1;32m    112\u001b[0m )\n\u001b[1;32m    113\u001b[0m \u001b[38;5;28;01mif\u001b[39;00m missing_vars:\n\u001b[0;32m--> 114\u001b[0m     \u001b[38;5;28;01mraise\u001b[39;00m \u001b[38;5;167;01mValueError\u001b[39;00m(\u001b[38;5;124mf\u001b[39m\u001b[38;5;124m\"\u001b[39m\u001b[38;5;124mPrompt missing required variables: \u001b[39m\u001b[38;5;132;01m{\u001b[39;00mmissing_vars\u001b[38;5;132;01m}\u001b[39;00m\u001b[38;5;124m\"\u001b[39m)\n\u001b[1;32m    116\u001b[0m prompt \u001b[38;5;241m=\u001b[39m prompt\u001b[38;5;241m.\u001b[39mpartial(\n\u001b[1;32m    117\u001b[0m     tools\u001b[38;5;241m=\u001b[39mtools_renderer(\u001b[38;5;28mlist\u001b[39m(tools)),\n\u001b[1;32m    118\u001b[0m     tool_names\u001b[38;5;241m=\u001b[39m\u001b[38;5;124m\"\u001b[39m\u001b[38;5;124m, \u001b[39m\u001b[38;5;124m\"\u001b[39m\u001b[38;5;241m.\u001b[39mjoin([t\u001b[38;5;241m.\u001b[39mname \u001b[38;5;28;01mfor\u001b[39;00m t \u001b[38;5;129;01min\u001b[39;00m tools]),\n\u001b[1;32m    119\u001b[0m )\n\u001b[1;32m    120\u001b[0m \u001b[38;5;28;01mif\u001b[39;00m stop_sequence:\n",
      "\u001b[0;31mValueError\u001b[0m: Prompt missing required variables: {'tool_names', 'tools'}"
     ]
    }
   ],
   "source": [
    "from langchain.agents import AgentExecutor, create_react_agent\n",
    "agent = create_react_agent(chat,tools,prompt)"
   ]
  },
  {
   "cell_type": "code",
   "execution_count": 30,
   "id": "08d1a488-14d4-4847-812f-626cf59bdc64",
   "metadata": {
    "tags": []
   },
   "outputs": [
    {
     "ename": "NameError",
     "evalue": "name 'agent' is not defined",
     "output_type": "error",
     "traceback": [
      "\u001b[0;31m---------------------------------------------------------------------------\u001b[0m",
      "\u001b[0;31mNameError\u001b[0m                                 Traceback (most recent call last)",
      "Cell \u001b[0;32mIn[30], line 2\u001b[0m\n\u001b[1;32m      1\u001b[0m agent_executor \u001b[38;5;241m=\u001b[39m AgentExecutor(\n\u001b[0;32m----> 2\u001b[0m     agent\u001b[38;5;241m=\u001b[39m\u001b[43magent\u001b[49m, \n\u001b[1;32m      3\u001b[0m     tools\u001b[38;5;241m=\u001b[39mtools, \n\u001b[1;32m      4\u001b[0m     verbose\u001b[38;5;241m=\u001b[39m\u001b[38;5;28;01mTrue\u001b[39;00m,\n\u001b[1;32m      5\u001b[0m     return_intermediate_steps\u001b[38;5;241m=\u001b[39m\u001b[38;5;28;01mTrue\u001b[39;00m\n\u001b[1;32m      6\u001b[0m )\n",
      "\u001b[0;31mNameError\u001b[0m: name 'agent' is not defined"
     ]
    }
   ],
   "source": [
    "agent_executor = AgentExecutor(\n",
    "    agent=agent, \n",
    "    tools=tools, \n",
    "    verbose=True,\n",
    "    return_intermediate_steps=True\n",
    ")"
   ]
  },
  {
   "cell_type": "code",
   "execution_count": null,
   "id": "60d637b0-0fb9-405f-821c-9bf9a71cdc9b",
   "metadata": {
    "tags": []
   },
   "outputs": [],
   "source": [
    "response = agent_executor.invoke(\n",
    "    {\n",
    "        \"input\": query,\n",
    "        \"agent_scratchpad\": []\n",
    "    }\n",
    ")"
   ]
  },
  {
   "cell_type": "code",
   "execution_count": null,
   "id": "a472829e-ff25-4eaf-a26a-3d90975cc785",
   "metadata": {},
   "outputs": [],
   "source": []
  },
  {
   "cell_type": "code",
   "execution_count": null,
   "id": "9e488d40-9ce1-4584-9b73-92e6165f06a4",
   "metadata": {},
   "outputs": [],
   "source": []
  },
  {
   "cell_type": "code",
   "execution_count": null,
   "id": "efb820ac-46aa-46ea-aa56-9ddfcb091808",
   "metadata": {
    "tags": []
   },
   "outputs": [],
   "source": [
    "from langchain_core.prompts import PromptTemplate"
   ]
  },
  {
   "cell_type": "code",
   "execution_count": null,
   "id": "1e37dfbb-8dde-4516-ae91-ef10e47b19bf",
   "metadata": {
    "tags": []
   },
   "outputs": [],
   "source": [
    "template = '''Answer the following questions as best you can. You have access to the following tools:\n",
    "\n",
    "{tools}\n",
    "\n",
    "Use the following format:\n",
    "\n",
    "Question: the input question you must answer\n",
    "Thought: you should always think about what to do\n",
    "Action: the action to take, should be one of [{tool_names}]\n",
    "Action Input: the input to the action\n",
    "Observation: the result of the action\n",
    "... (this Thought/Action/Action Input/Observation can repeat N times)\n",
    "Thought: I now know the final answer\n",
    "Final Answer: the final answer to the original input question\n",
    "\n",
    "Begin!\n",
    "\n",
    "Question: {input}\n",
    "Thought:{agent_scratchpad}'''\n",
    "\n",
    "prompt = PromptTemplate.from_template(template)"
   ]
  },
  {
   "cell_type": "code",
   "execution_count": null,
   "id": "47c16e6b-2c68-4b7a-a7f9-cb599029513e",
   "metadata": {
    "tags": []
   },
   "outputs": [],
   "source": [
    "from langchain.agents import AgentExecutor, create_react_agent\n",
    "agent = create_react_agent(chat,tools,prompt)"
   ]
  },
  {
   "cell_type": "code",
   "execution_count": null,
   "id": "da4cabcb-e1ce-4b0b-846f-217654fa0b83",
   "metadata": {
    "tags": []
   },
   "outputs": [],
   "source": [
    "agent_executor = AgentExecutor(\n",
    "    agent=agent, \n",
    "    tools=tools, \n",
    "    verbose=True,\n",
    "    return_intermediate_steps=True\n",
    ")"
   ]
  },
  {
   "cell_type": "code",
   "execution_count": null,
   "id": "17e2efa1-8cde-4d0b-9aee-00391d7f078a",
   "metadata": {
    "tags": []
   },
   "outputs": [],
   "source": [
    "response = agent_executor.invoke({\"input\": \"안녕, 반가워!\"})\n",
    "print(f'답변: {response[\"output\"]}')"
   ]
  },
  {
   "cell_type": "code",
   "execution_count": null,
   "id": "8e8b9ff2-52ef-4c94-ba3c-065994049f38",
   "metadata": {},
   "outputs": [],
   "source": []
  },
  {
   "cell_type": "code",
   "execution_count": null,
   "id": "57ec21ee-653d-4725-b605-44d0b59cc09a",
   "metadata": {},
   "outputs": [],
   "source": []
  },
  {
   "cell_type": "code",
   "execution_count": null,
   "id": "f9e9b4cc-1753-413f-add9-06b5e8d7f429",
   "metadata": {},
   "outputs": [],
   "source": [
    "print(response)"
   ]
  },
  {
   "cell_type": "code",
   "execution_count": null,
   "id": "8bb0496b-b205-450a-a2a2-1e6b5ed72b7b",
   "metadata": {},
   "outputs": [],
   "source": []
  },
  {
   "cell_type": "code",
   "execution_count": null,
   "id": "6898ac03-db09-408a-ae72-666d0f8807fd",
   "metadata": {},
   "outputs": [],
   "source": []
  },
  {
   "cell_type": "code",
   "execution_count": null,
   "id": "03f67389-21bd-416a-9283-c29b9fb0e03a",
   "metadata": {},
   "outputs": [],
   "source": []
  },
  {
   "cell_type": "code",
   "execution_count": null,
   "id": "d60ae4d1-fad0-4249-a040-10c4fea335b1",
   "metadata": {
    "tags": []
   },
   "outputs": [],
   "source": [
    "# Prompt 정의\n",
    "prompt = ChatPromptTemplate.from_messages(\n",
    "    [\n",
    "        (\n",
    "            \"system\",\n",
    "            \"You are very powerful assistant, but don't know current events\",\n",
    "        ),\n",
    "        (\"user\", \"{input}\"),\n",
    "        MessagesPlaceholder(variable_name=\"agent_scratchpad\"),\n",
    "    ]\n",
    ")"
   ]
  },
  {
   "cell_type": "code",
   "execution_count": null,
   "id": "d4a9d852-8440-4540-bea7-7da071cdfa72",
   "metadata": {
    "tags": []
   },
   "outputs": [],
   "source": [
    "agent = (\n",
    "    {\n",
    "        \"input\": lambda x: x[\"input\"],\n",
    "        \"agent_scratchpad\": lambda x: format_to_openai_function_messages(\n",
    "            x[\"intermediate_steps\"]\n",
    "        ),\n",
    "    }\n",
    "    | prompt\n",
    "    | llm_with_tools\n",
    ")"
   ]
  },
  {
   "cell_type": "code",
   "execution_count": null,
   "id": "d6da49a9-e8f3-409a-8844-3a25398d1386",
   "metadata": {},
   "outputs": [],
   "source": []
  },
  {
   "cell_type": "code",
   "execution_count": null,
   "id": "d5e5c06b-83cc-4972-8fff-7097e5f0e8cf",
   "metadata": {},
   "outputs": [],
   "source": [
    "def run(agent_executor: AgentExecutor, keyword: str) -> dict:\n",
    "    result = agent_executor.invoke(\n",
    "        {\n",
    "            \"input\": f\"\"\"\n",
    "        1. `{keyword}` 키워드로 상품 리스트를 가져와줘.\n",
    "        2. 1번 과정에서 가져온 상품 리스트 각각의 table of content 를 가져와줘.\n",
    "        3. 마지막으로 모든 상품 리스트의 table of content 를 종합하여 내가 앞으로 집필할 베스트셀러 책의 목차를 작성해 줘.\n",
    "        \"\"\"\n",
    "        }\n",
    "    )\n",
    "    return result[\"output\"]"
   ]
  },
  {
   "cell_type": "code",
   "execution_count": null,
   "id": "c1809550-0afd-4846-9e62-06882ff8bbac",
   "metadata": {
    "tags": []
   },
   "outputs": [],
   "source": [
    "final_answer = run(agent_executor, \"Pandas\")"
   ]
  }
 ],
 "metadata": {
  "kernelspec": {
   "display_name": "conda_python3",
   "language": "python",
   "name": "conda_python3"
  },
  "language_info": {
   "codemirror_mode": {
    "name": "ipython",
    "version": 3
   },
   "file_extension": ".py",
   "mimetype": "text/x-python",
   "name": "python",
   "nbconvert_exporter": "python",
   "pygments_lexer": "ipython3",
   "version": "3.10.14"
  }
 },
 "nbformat": 4,
 "nbformat_minor": 5
}
