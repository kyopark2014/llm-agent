{
 "cells": [
  {
   "cell_type": "markdown",
   "id": "b62674d2-89a1-42a3-a5d6-dc44164c3ba8",
   "metadata": {},
   "source": [
    "## Tavily Searh\n",
    "\n",
    "[LangChain: Tavily Search API](https://python.langchain.com/v0.1/docs/integrations/retrievers/tavily/)\n",
    "\n",
    "[Tavily AI](https://app.tavily.com/home)"
   ]
  },
  {
   "cell_type": "code",
   "execution_count": 9,
   "id": "46030eef-3a83-4ab7-b76b-973bd0ee9d8e",
   "metadata": {
    "tags": []
   },
   "outputs": [],
   "source": [
    "!pip install -U langchain-community tavily-python --quiet"
   ]
  },
  {
   "cell_type": "code",
   "execution_count": 27,
   "id": "90a5e595-98cc-4183-9092-81a78f39c657",
   "metadata": {
    "tags": []
   },
   "outputs": [],
   "source": [
    "import os"
   ]
  },
  {
   "cell_type": "code",
   "execution_count": 20,
   "id": "e6a24a25-bf93-4d18-aad1-ec54c6c811dc",
   "metadata": {
    "tags": []
   },
   "outputs": [
    {
     "name": "stdin",
     "output_type": "stream",
     "text": [
      "Password: ········\n"
     ]
    }
   ],
   "source": [
    "import getpass\n",
    "\n",
    "api_key = getpass.getpass(\"Password:\")"
   ]
  },
  {
   "cell_type": "code",
   "execution_count": 21,
   "id": "e0fef4aa-afd4-4501-8a26-6311946d1cc7",
   "metadata": {
    "tags": []
   },
   "outputs": [],
   "source": [
    "os.environ[\"TAVILY_API_KEY\"] = api_key"
   ]
  },
  {
   "cell_type": "code",
   "execution_count": 22,
   "id": "b3e2ca2d-933c-4874-9592-2f43e25c5d3d",
   "metadata": {
    "tags": []
   },
   "outputs": [
    {
     "data": {
      "text/plain": [
       "'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'"
      ]
     },
     "execution_count": 22,
     "metadata": {},
     "output_type": "execute_result"
    }
   ],
   "source": [
    "api_key"
   ]
  },
  {
   "cell_type": "code",
   "execution_count": 23,
   "id": "dc050b5f-7584-4272-98ca-26adee82bb4e",
   "metadata": {
    "tags": []
   },
   "outputs": [],
   "source": [
    "os.environ[\"LANGCHAIN_PROJECT\"] = \"API-travily\"\n",
    "os.environ[\"LANGCHAIN_TRACING_V2\"] = \"true\""
   ]
  },
  {
   "cell_type": "markdown",
   "id": "16a65868-b145-4767-ae20-26d31f01356a",
   "metadata": {},
   "source": [
    "# TavilySearchAPIRetriever 이용시"
   ]
  },
  {
   "cell_type": "code",
   "execution_count": 28,
   "id": "40cb6567-b576-454b-abfc-7a9ce4ed390d",
   "metadata": {
    "tags": []
   },
   "outputs": [
    {
     "name": "stderr",
     "output_type": "stream",
     "text": [
      "--- Logging error ---\n",
      "Traceback (most recent call last):\n",
      "  File \"/home/ec2-user/anaconda3/envs/python3/lib/python3.10/site-packages/langchain_core/callbacks/manager.py\", line 1997, in _configure\n",
      "    handler = LangChainTracer(\n",
      "  File \"/home/ec2-user/anaconda3/envs/python3/lib/python3.10/site-packages/langchain_core/tracers/langchain.py\", line 91, in __init__\n",
      "    self.client = client or get_client()\n",
      "  File \"/home/ec2-user/anaconda3/envs/python3/lib/python3.10/site-packages/langchain_core/tracers/langchain.py\", line 54, in get_client\n",
      "    _CLIENT = Client()\n",
      "  File \"/home/ec2-user/anaconda3/envs/python3/lib/python3.10/site-packages/langsmith/client.py\", line 534, in __init__\n",
      "    _validate_api_key_if_hosted(self.api_url, self.api_key)\n",
      "  File \"/home/ec2-user/anaconda3/envs/python3/lib/python3.10/site-packages/langsmith/client.py\", line 323, in _validate_api_key_if_hosted\n",
      "    raise ls_utils.LangSmithUserError(\n",
      "langsmith.utils.LangSmithUserError: API key must be provided when using hosted LangSmith API\n",
      "\n",
      "During handling of the above exception, another exception occurred:\n",
      "\n",
      "Traceback (most recent call last):\n",
      "  File \"/home/ec2-user/anaconda3/envs/python3/lib/python3.10/logging/__init__.py\", line 1100, in emit\n",
      "    msg = self.format(record)\n",
      "  File \"/home/ec2-user/anaconda3/envs/python3/lib/python3.10/logging/__init__.py\", line 943, in format\n",
      "    return fmt.format(record)\n",
      "  File \"/home/ec2-user/anaconda3/envs/python3/lib/python3.10/logging/__init__.py\", line 678, in format\n",
      "    record.message = record.getMessage()\n",
      "  File \"/home/ec2-user/anaconda3/envs/python3/lib/python3.10/logging/__init__.py\", line 368, in getMessage\n",
      "    msg = msg % self.args\n",
      "TypeError: not all arguments converted during string formatting\n",
      "Call stack:\n",
      "  File \"/home/ec2-user/anaconda3/envs/python3/lib/python3.10/runpy.py\", line 196, in _run_module_as_main\n",
      "    return _run_code(code, main_globals, None,\n",
      "  File \"/home/ec2-user/anaconda3/envs/python3/lib/python3.10/runpy.py\", line 86, in _run_code\n",
      "    exec(code, run_globals)\n",
      "  File \"/home/ec2-user/anaconda3/envs/python3/lib/python3.10/site-packages/ipykernel_launcher.py\", line 18, in <module>\n",
      "    app.launch_new_instance()\n",
      "  File \"/home/ec2-user/anaconda3/envs/python3/lib/python3.10/site-packages/traitlets/config/application.py\", line 1075, in launch_instance\n",
      "    app.start()\n",
      "  File \"/home/ec2-user/anaconda3/envs/python3/lib/python3.10/site-packages/ipykernel/kernelapp.py\", line 739, in start\n",
      "    self.io_loop.start()\n",
      "  File \"/home/ec2-user/anaconda3/envs/python3/lib/python3.10/site-packages/tornado/platform/asyncio.py\", line 205, in start\n",
      "    self.asyncio_loop.run_forever()\n",
      "  File \"/home/ec2-user/anaconda3/envs/python3/lib/python3.10/asyncio/base_events.py\", line 603, in run_forever\n",
      "    self._run_once()\n",
      "  File \"/home/ec2-user/anaconda3/envs/python3/lib/python3.10/asyncio/base_events.py\", line 1909, in _run_once\n",
      "    handle._run()\n",
      "  File \"/home/ec2-user/anaconda3/envs/python3/lib/python3.10/asyncio/events.py\", line 80, in _run\n",
      "    self._context.run(self._callback, *self._args)\n",
      "  File \"/home/ec2-user/anaconda3/envs/python3/lib/python3.10/site-packages/ipykernel/kernelbase.py\", line 545, in dispatch_queue\n",
      "    await self.process_one()\n",
      "  File \"/home/ec2-user/anaconda3/envs/python3/lib/python3.10/site-packages/ipykernel/kernelbase.py\", line 534, in process_one\n",
      "    await dispatch(*args)\n",
      "  File \"/home/ec2-user/anaconda3/envs/python3/lib/python3.10/site-packages/ipykernel/kernelbase.py\", line 437, in dispatch_shell\n",
      "    await result\n",
      "  File \"/home/ec2-user/anaconda3/envs/python3/lib/python3.10/site-packages/ipykernel/ipkernel.py\", line 359, in execute_request\n",
      "    await super().execute_request(stream, ident, parent)\n",
      "  File \"/home/ec2-user/anaconda3/envs/python3/lib/python3.10/site-packages/ipykernel/kernelbase.py\", line 778, in execute_request\n",
      "    reply_content = await reply_content\n",
      "  File \"/home/ec2-user/anaconda3/envs/python3/lib/python3.10/site-packages/ipykernel/ipkernel.py\", line 446, in do_execute\n",
      "    res = shell.run_cell(\n",
      "  File \"/home/ec2-user/anaconda3/envs/python3/lib/python3.10/site-packages/ipykernel/zmqshell.py\", line 549, in run_cell\n",
      "    return super().run_cell(*args, **kwargs)\n",
      "  File \"/home/ec2-user/anaconda3/envs/python3/lib/python3.10/site-packages/IPython/core/interactiveshell.py\", line 3075, in run_cell\n",
      "    result = self._run_cell(\n",
      "  File \"/home/ec2-user/anaconda3/envs/python3/lib/python3.10/site-packages/IPython/core/interactiveshell.py\", line 3130, in _run_cell\n",
      "    result = runner(coro)\n",
      "  File \"/home/ec2-user/anaconda3/envs/python3/lib/python3.10/site-packages/IPython/core/async_helpers.py\", line 129, in _pseudo_sync_runner\n",
      "    coro.send(None)\n",
      "  File \"/home/ec2-user/anaconda3/envs/python3/lib/python3.10/site-packages/IPython/core/interactiveshell.py\", line 3334, in run_cell_async\n",
      "    has_raised = await self.run_ast_nodes(code_ast.body, cell_name,\n",
      "  File \"/home/ec2-user/anaconda3/envs/python3/lib/python3.10/site-packages/IPython/core/interactiveshell.py\", line 3517, in run_ast_nodes\n",
      "    if await self.run_code(code, result, async_=asy):\n",
      "  File \"/home/ec2-user/anaconda3/envs/python3/lib/python3.10/site-packages/IPython/core/interactiveshell.py\", line 3577, in run_code\n",
      "    exec(code_obj, self.user_global_ns, self.user_ns)\n",
      "  File \"/tmp/ipykernel_10047/3434578960.py\", line 5, in <module>\n",
      "    retriever.invoke(\"what year was breath of the wild released?\")\n",
      "  File \"/home/ec2-user/anaconda3/envs/python3/lib/python3.10/site-packages/langchain_core/retrievers.py\", line 194, in invoke\n",
      "    return self.get_relevant_documents(\n",
      "  File \"/home/ec2-user/anaconda3/envs/python3/lib/python3.10/site-packages/langchain_core/_api/deprecation.py\", line 148, in warning_emitting_wrapper\n",
      "    return wrapped(*args, **kwargs)\n",
      "  File \"/home/ec2-user/anaconda3/envs/python3/lib/python3.10/site-packages/langchain_core/retrievers.py\", line 298, in get_relevant_documents\n",
      "    callback_manager = CallbackManager.configure(\n",
      "  File \"/home/ec2-user/anaconda3/envs/python3/lib/python3.10/site-packages/langchain_core/callbacks/manager.py\", line 1449, in configure\n",
      "    return _configure(\n",
      "  File \"/home/ec2-user/anaconda3/envs/python3/lib/python3.10/site-packages/langchain_core/callbacks/manager.py\", line 2003, in _configure\n",
      "    logger.warning(\n",
      "Message: 'Unable to load requested LangChainTracer. To disable this warning, unset the LANGCHAIN_TRACING_V2 environment variables.'\n",
      "Arguments: (\"LangSmithUserError('API key must be provided when using hosted LangSmith API')\",)\n"
     ]
    },
    {
     "data": {
      "text/plain": [
       "[Document(page_content='Reviewers also commented on the unexpected permutations of interactions between Link, villagers, pets, and enemies,[129][130][131] many of which were shared widely on social media.[132] A tribute to former Nintendo president Satoru Iwata, who died during development, also attracted praise.[129][134]\\nJim Sterling was more critical than most, giving Breath of the Wild a 7/10 score, criticizing the difficulty, weapon durability, and level design, but praising the open world and variety of content.[135] Other criticism focused on the unstable frame rate and the low resolution of 900p;[136] updates addressed some of these problems.[137][138]\\nSales\\nBreath of the Wild broke sales records for a Nintendo launch game in multiple regions.[139][140] In Japan, the Switch and Wii U versions sold a combined 230,000 copies in the first week of release, with the Switch version becoming the top-selling game released that week.[141] Nintendo reported that Breath of the Wild sold more than one million copies in the US that month—925,000 of which were for Switch, outselling the Switch itself.[145][146][147][148] Nintendo president Tatsumi Kimishima said that the attach rate on the Switch was \"unprecedented\".[149] Breath of the Wild had sold 31.15 million copies on the Switch by September 2023 and 1.70 million copies on the Wii U by December 2020.[150][151]\\nAwards\\nFollowing its demonstration at E3 2016, Breath of the Wild received several accolades from the Game Critics Awards[152] and from publications such as IGN and Destructoid.[153][154] It was listed among the best games at E3 by Eurogamer,[81] The game, he continued, would challenge the series\\' conventions, such as the requirement that players complete dungeons in a set order.[2][73] The next year, Nintendo introduced the game\\'s high-definition, cel-shaded visual style with in-game footage at its E3 press event.[74][75] Once planned for release in 2015, the game was delayed early in the year and did not show at that year\\'s E3.[76][77] Zelda series creator Shigeru Miyamoto reaffirmed that the game would still release for the Wii U despite the development of Nintendo\\'s next console, the Nintendo Switch.[78] The Switch version also has higher-quality environmental sounds.[53][54] Certain ideas that were planned for the game, like flying and underground dungeons were not implemented due to the Wii U’s limitations; they would eventually resurface in the game\\'s sequel.[55] Aonuma stated that the art design was inspired by gouache and en plein air art to help identify the vast world.[56] Takizawa has also cited the Jōmon period as an inspiration for the ancient Sheikah technology and architecture that is found in the game, due to the mystery surrounding the period.[57] Journalists commented on unexpected interactions between game elements,[129][130][131] with serendipitous moments proving popular on social media.[132] Chris Plante of The Verge predicted that whereas prior open-world games tended to feature prescribed challenges, Zelda would influence a new generation of games with open-ended problem-solving.[132] Digital Trends wrote that the game\\'s level of experimentation allowed players to interact with and exploit the environment in creative ways, resulting in various \"tricks\" still discovered years after release.[127]\\nReviewers lauded the sense of detail and immersion.[133][129] Kotaku recommended turning off UI elements in praise of the indirect cues that contextually indicate the same information, such as Link shivering in the cold or waypoints appearing when using the scope.[133]', metadata={'title': 'The Legend of Zelda: Breath of the Wild - Wikipedia', 'source': 'https://en.wikipedia.org/wiki/The_Legend_of_Zelda:_Breath_of_the_Wild', 'score': 0.97496, 'images': None}),\n",
       " Document(page_content='[]\\nReferences\\nThe Legend of Zelda \\xa0·\\nThe Adventure of Link \\xa0·\\nA Link to the Past (& Four Swords) \\xa0·\\nLink\\'s Awakening (DX; Nintendo Switch) \\xa0·\\nOcarina of Time (Master Quest; 3D) \\xa0·\\nMajora\\'s Mask (3D) \\xa0·\\nOracle of Ages \\xa0·\\nOracle of Seasons \\xa0·\\nFour Swords (Anniversary Edition) \\xa0·\\nThe Wind Waker (HD) \\xa0·\\nFour Swords Adventures \\xa0·\\nThe Minish Cap \\xa0·\\nTwilight Princess (HD) \\xa0·\\nPhantom Hourglass \\xa0·\\nSpirit Tracks \\xa0·\\nSkyward Sword (HD) \\xa0·\\nA Link Between Worlds \\xa0·\\nTri Force Heroes \\xa0·\\nBreath of the Wild \\xa0·\\nTears of the Kingdom\\nZelda (Game & Watch) \\xa0·\\nThe Legend of Zelda Game Watch \\xa0·\\nLink\\'s Crossbow Training \\xa0·\\nMy Nintendo Picross: Twilight Princess \\xa0·\\nCadence of Hyrule \\xa0·\\nGame & Watch: The Legend of Zelda\\nCD-i Games\\n Listings[]\\nCharacters[]\\nBosses[]\\nEnemies[]\\nDungeons[]\\nLocations[]\\nItems[]\\nTranslations[]\\nCredits[]\\nReception[]\\nSales[]\\nEiji Aonuma and Hidemaro Fujibayashi accepting the \"Game of the Year\" award for Breath of the Wild at The Game Awards 2017\\nBreath of the Wild was estimated to have sold approximately 1.3 million copies in its first three weeks and around 89% of Switch owners were estimated to have also purchased the game.[52] Sales of the game have remained strong and as of June 30, 2022, the Switch version has sold 27.14 million copies worldwide while the Wii U version has sold 1.69 million copies worldwide as of December 31, 2019,[53][54] giving Breath of the Wild a cumulative total of 28.83 million copies sold.\\n It also earned a Metacritic score of 97 from more than 100 critics, placing it among the highest-rated games of all time.[59][60] Notably, the game received the most perfect review scores for any game listed on Metacritic up to that point.[61]\\nIn 2022, Breath of the Wild was chosen as the best Legend of Zelda game of all time in their \"Top 10 Best Zelda Games\" list countdown; but was then placed as the \"second\" best Zelda game in their new revamped version of their \"Top 10 Best Zelda Games\" list in 2023, right behind it\\'s successor Tears of Video Game Canon ranks Breath of the Wild as one of the best video games of all time.[74] Metacritic ranked Breath of the Wild as the single best game of the 2010s.[75]\\nFan Reception[]\\nWatchMojo placed Breath of the Wild at the #2 spot in their \"Top 10 Legend of Zelda Games of All Time\" list countdown, right behind Ocarina of Time.[76] The Faces of Evil \\xa0·\\nThe Wand of Gamelon \\xa0·\\nZelda\\'s Adventure\\nHyrule Warriors Series\\nHyrule Warriors (Legends; Definitive Edition) \\xa0·\\nHyrule Warriors: Age of Calamity\\nSatellaview Games\\nBS The Legend of Zelda \\xa0·\\nAncient Stone Tablets\\nTingle Series\\nFreshly-Picked Tingle\\'s Rosy Rupeeland \\xa0·\\nTingle\\'s Balloon Fight DS \\xa0·\\n', metadata={'title': 'The Legend of Zelda: Breath of the Wild - Zelda Wiki', 'source': 'https://zelda.fandom.com/wiki/The_Legend_of_Zelda:_Breath_of_the_Wild', 'score': 0.97356, 'images': None}),\n",
       " Document(page_content=\"Media\\nCharacters\\nLink\\nZelda\\nRevali\\nMipha\\nDaruk\\nUrbosa\\nPrince Sidon\\nRiju\\nTeba\\nYunobo\\nKass\\nMaster Kohga\\nEnemies\\nChuchu\\nKeese\\nOctorok\\nWizzrobe\\nBokoblin\\nLizalfos\\nMoblin\\nLynel\\nGuardian\\nItems\\nBreath of the Wild Elixirs\\nBreath of the Wild Food\\nBreath of the Wild Materials\\nBreath of the Wild Objects\\nBreath of the Wild Shields\\nBreath of the Wild Weapons\\nOverworld Bosses\\nStone Talus\\nHinox\\nStalnox\\nMolduga\\nScene art\\nArtwork used for US & Japanese covers\\nArtwork used for European covers\\nTrailer Screenshots\\nVideos\\nReferences\\nNavigation menu\\nPersonal tools\\nNamespaces\\nViews\\nSearch\\nNavigation\\nContribute\\nTools\\nCommunity\\nWiki Stats The Legend of Zelda: Breath of the Wild\\nRelated\\nBreath of the Wild Expansion PassTears of the KingdomAge of Calamity\\nPlatform\\nDate\\nNintendo Switch\\nWii U\\n🌎 March 3, 2017\\nDeveloper\\nNintendo EPD\\nPublisher\\nNintendo\\nProducer\\nEiji Aonuma\\nDirector\\nHidemaro Fujibayashi\\nWalkthrough\\nText Walkthrough\\nArmor\\nElixir\\nEnemies\\nEnemy Drops\\nEquipment\\nFood\\nGallery:Breath of the Wild Hyrule Compendium\\nBreath of the Wild Interactive Map\\nKey Characters\\nKey Items\\nKorok Seed Locations\\nLocations\\nMaterials\\nMeals\\nMemories\\nShrines\\nSide Quest Catalogue\\nStar Fragment Guide\\nThe Legend of Zelda: A Link to the Past\\nLink's Awakening\\nOcarina of Time\\nMajora's Mask\\nOracle of Seasons\\nOracle of Ages\\nThe Wind Waker\\nThe Minish Cap\\nTwilight Princess\\nPhantom Hourglass\\nSpirit Tracks\\nSkyward Sword\\nA Link Between Worlds\\nBreath of the Wild\\nTears of the Kingdom\\nAge of Calamity\\nOther Games\\n And so, it's not necessarily the case that we would use that graphic style or depiction the same way we would in a new Zelda, when there is a new Zelda for the Wii U. Just like the map functionality that was also implemented in that experience - it's simply us giving an objective look at the kinds of things that can be done with the HD hardware. [10]\\nThe long anticipated E3 2016 reveal unveiled the title of the new game as Breath of the Wild, and offered fans a chance to play the game for 30 minutes in an area known as the Great Plateau, which is only 1% the game's total area.\", metadata={'title': 'The Legend of Zelda: Breath of the Wild - Zelda Dungeon', 'source': 'https://www.zeldadungeon.net/wiki/The_Legend_of_Zelda:_Breath_of_the_Wild', 'score': 0.95313, 'images': None})]"
      ]
     },
     "execution_count": 28,
     "metadata": {},
     "output_type": "execute_result"
    }
   ],
   "source": [
    "from langchain_community.retrievers import TavilySearchAPIRetriever\n",
    "\n",
    "retriever = TavilySearchAPIRetriever(k=3)\n",
    "\n",
    "retriever.invoke(\"what year was breath of the wild released?\")"
   ]
  },
  {
   "cell_type": "markdown",
   "id": "4e5944d7-9d7e-499e-9bf7-df4801f099e1",
   "metadata": {
    "tags": []
   },
   "source": [
    "## TavilySearchResults 이용시"
   ]
  },
  {
   "cell_type": "code",
   "execution_count": 24,
   "id": "3ac31c62-0e35-48c8-bd8c-74eb958973b4",
   "metadata": {
    "tags": []
   },
   "outputs": [],
   "source": [
    "from langchain_community.tools.tavily_search import TavilySearchResults"
   ]
  },
  {
   "cell_type": "code",
   "execution_count": 25,
   "id": "e6f6c01a-fcba-4b5e-8d92-72641fac329b",
   "metadata": {
    "tags": []
   },
   "outputs": [],
   "source": [
    "search = TavilySearchResults(k=5)"
   ]
  },
  {
   "cell_type": "code",
   "execution_count": 26,
   "id": "ce84a587-cef7-4481-95f7-6c47bf199a62",
   "metadata": {
    "tags": []
   },
   "outputs": [
    {
     "name": "stderr",
     "output_type": "stream",
     "text": [
      "--- Logging error ---\n",
      "Traceback (most recent call last):\n",
      "  File \"/home/ec2-user/anaconda3/envs/python3/lib/python3.10/site-packages/langchain_core/callbacks/manager.py\", line 1997, in _configure\n",
      "    handler = LangChainTracer(\n",
      "  File \"/home/ec2-user/anaconda3/envs/python3/lib/python3.10/site-packages/langchain_core/tracers/langchain.py\", line 91, in __init__\n",
      "    self.client = client or get_client()\n",
      "  File \"/home/ec2-user/anaconda3/envs/python3/lib/python3.10/site-packages/langchain_core/tracers/langchain.py\", line 54, in get_client\n",
      "    _CLIENT = Client()\n",
      "  File \"/home/ec2-user/anaconda3/envs/python3/lib/python3.10/site-packages/langsmith/client.py\", line 534, in __init__\n",
      "    _validate_api_key_if_hosted(self.api_url, self.api_key)\n",
      "  File \"/home/ec2-user/anaconda3/envs/python3/lib/python3.10/site-packages/langsmith/client.py\", line 323, in _validate_api_key_if_hosted\n",
      "    raise ls_utils.LangSmithUserError(\n",
      "langsmith.utils.LangSmithUserError: API key must be provided when using hosted LangSmith API\n",
      "\n",
      "During handling of the above exception, another exception occurred:\n",
      "\n",
      "Traceback (most recent call last):\n",
      "  File \"/home/ec2-user/anaconda3/envs/python3/lib/python3.10/logging/__init__.py\", line 1100, in emit\n",
      "    msg = self.format(record)\n",
      "  File \"/home/ec2-user/anaconda3/envs/python3/lib/python3.10/logging/__init__.py\", line 943, in format\n",
      "    return fmt.format(record)\n",
      "  File \"/home/ec2-user/anaconda3/envs/python3/lib/python3.10/logging/__init__.py\", line 678, in format\n",
      "    record.message = record.getMessage()\n",
      "  File \"/home/ec2-user/anaconda3/envs/python3/lib/python3.10/logging/__init__.py\", line 368, in getMessage\n",
      "    msg = msg % self.args\n",
      "TypeError: not all arguments converted during string formatting\n",
      "Call stack:\n",
      "  File \"/home/ec2-user/anaconda3/envs/python3/lib/python3.10/runpy.py\", line 196, in _run_module_as_main\n",
      "    return _run_code(code, main_globals, None,\n",
      "  File \"/home/ec2-user/anaconda3/envs/python3/lib/python3.10/runpy.py\", line 86, in _run_code\n",
      "    exec(code, run_globals)\n",
      "  File \"/home/ec2-user/anaconda3/envs/python3/lib/python3.10/site-packages/ipykernel_launcher.py\", line 18, in <module>\n",
      "    app.launch_new_instance()\n",
      "  File \"/home/ec2-user/anaconda3/envs/python3/lib/python3.10/site-packages/traitlets/config/application.py\", line 1075, in launch_instance\n",
      "    app.start()\n",
      "  File \"/home/ec2-user/anaconda3/envs/python3/lib/python3.10/site-packages/ipykernel/kernelapp.py\", line 739, in start\n",
      "    self.io_loop.start()\n",
      "  File \"/home/ec2-user/anaconda3/envs/python3/lib/python3.10/site-packages/tornado/platform/asyncio.py\", line 205, in start\n",
      "    self.asyncio_loop.run_forever()\n",
      "  File \"/home/ec2-user/anaconda3/envs/python3/lib/python3.10/asyncio/base_events.py\", line 603, in run_forever\n",
      "    self._run_once()\n",
      "  File \"/home/ec2-user/anaconda3/envs/python3/lib/python3.10/asyncio/base_events.py\", line 1909, in _run_once\n",
      "    handle._run()\n",
      "  File \"/home/ec2-user/anaconda3/envs/python3/lib/python3.10/asyncio/events.py\", line 80, in _run\n",
      "    self._context.run(self._callback, *self._args)\n",
      "  File \"/home/ec2-user/anaconda3/envs/python3/lib/python3.10/site-packages/ipykernel/kernelbase.py\", line 545, in dispatch_queue\n",
      "    await self.process_one()\n",
      "  File \"/home/ec2-user/anaconda3/envs/python3/lib/python3.10/site-packages/ipykernel/kernelbase.py\", line 534, in process_one\n",
      "    await dispatch(*args)\n",
      "  File \"/home/ec2-user/anaconda3/envs/python3/lib/python3.10/site-packages/ipykernel/kernelbase.py\", line 437, in dispatch_shell\n",
      "    await result\n",
      "  File \"/home/ec2-user/anaconda3/envs/python3/lib/python3.10/site-packages/ipykernel/ipkernel.py\", line 359, in execute_request\n",
      "    await super().execute_request(stream, ident, parent)\n",
      "  File \"/home/ec2-user/anaconda3/envs/python3/lib/python3.10/site-packages/ipykernel/kernelbase.py\", line 778, in execute_request\n",
      "    reply_content = await reply_content\n",
      "  File \"/home/ec2-user/anaconda3/envs/python3/lib/python3.10/site-packages/ipykernel/ipkernel.py\", line 446, in do_execute\n",
      "    res = shell.run_cell(\n",
      "  File \"/home/ec2-user/anaconda3/envs/python3/lib/python3.10/site-packages/ipykernel/zmqshell.py\", line 549, in run_cell\n",
      "    return super().run_cell(*args, **kwargs)\n",
      "  File \"/home/ec2-user/anaconda3/envs/python3/lib/python3.10/site-packages/IPython/core/interactiveshell.py\", line 3075, in run_cell\n",
      "    result = self._run_cell(\n",
      "  File \"/home/ec2-user/anaconda3/envs/python3/lib/python3.10/site-packages/IPython/core/interactiveshell.py\", line 3130, in _run_cell\n",
      "    result = runner(coro)\n",
      "  File \"/home/ec2-user/anaconda3/envs/python3/lib/python3.10/site-packages/IPython/core/async_helpers.py\", line 129, in _pseudo_sync_runner\n",
      "    coro.send(None)\n",
      "  File \"/home/ec2-user/anaconda3/envs/python3/lib/python3.10/site-packages/IPython/core/interactiveshell.py\", line 3334, in run_cell_async\n",
      "    has_raised = await self.run_ast_nodes(code_ast.body, cell_name,\n",
      "  File \"/home/ec2-user/anaconda3/envs/python3/lib/python3.10/site-packages/IPython/core/interactiveshell.py\", line 3517, in run_ast_nodes\n",
      "    if await self.run_code(code, result, async_=asy):\n",
      "  File \"/home/ec2-user/anaconda3/envs/python3/lib/python3.10/site-packages/IPython/core/interactiveshell.py\", line 3577, in run_code\n",
      "    exec(code_obj, self.user_global_ns, self.user_ns)\n",
      "  File \"/tmp/ipykernel_10047/295790877.py\", line 1, in <module>\n",
      "    search.invoke(\"AWS Korea는 어디에 있나요?\")\n",
      "  File \"/home/ec2-user/anaconda3/envs/python3/lib/python3.10/site-packages/langchain_core/tools.py\", line 260, in invoke\n",
      "    return self.run(\n",
      "  File \"/home/ec2-user/anaconda3/envs/python3/lib/python3.10/site-packages/langchain_core/tools.py\", line 375, in run\n",
      "    callback_manager = CallbackManager.configure(\n",
      "  File \"/home/ec2-user/anaconda3/envs/python3/lib/python3.10/site-packages/langchain_core/callbacks/manager.py\", line 1449, in configure\n",
      "    return _configure(\n",
      "  File \"/home/ec2-user/anaconda3/envs/python3/lib/python3.10/site-packages/langchain_core/callbacks/manager.py\", line 2003, in _configure\n",
      "    logger.warning(\n",
      "Message: 'Unable to load requested LangChainTracer. To disable this warning, unset the LANGCHAIN_TRACING_V2 environment variables.'\n",
      "Arguments: (\"LangSmithUserError('API key must be provided when using hosted LangSmith API')\",)\n"
     ]
    },
    {
     "data": {
      "text/plain": [
       "[{'url': 'https://aws.amazon.com/blogs/aws/now-open-aws-asia-pacific-seoul-region/',\n",
       "  'content': 'We are expanding the AWS footprint once again, this time with a new region in Seoul, South Korea. AWS customers in the area can use the new Asia Pacific (Seoul) region for fast, low-latency access to the suite of AWS infrastructure services. The new Seoul region has two Availability Zones (raising the global total to 32).'},\n",
       " {'url': 'https://koreajoongangdaily.joins.com/news/2023-10-11/business/tech/Amazon-Web-Services-to-invest-588-billion-in-Korea-create-12300-jobs-a-year/1887791',\n",
       "  'content': \"Amazon Web Services (AWS), the world's largest cloud provider, will invest 7.85 trillion won ($5.88 billion) in Korean cloud infrastructure by 2027 and annually create 12,300 jobs to meet the growing demand in the country.\"},\n",
       " {'url': 'https://www.etnews.com/20220502000088',\n",
       "  'content': 'aws는 11~12월 미국 라스베이거스에서 리인벤트를 통해 향후 전략과 신규 서비스를 발표한다. 5월에는 각 국가와 지역별로 성공사례를 공유하는 ...'},\n",
       " {'url': 'https://aws.amazon.com/ko/blogs/korea/now-open-fourth-availability-zone-in-the-aws-asia-pacific-seoul-region/',\n",
       "  'content': 'AWS는 한국의 높은 고객 요구를 충족시키기 위해 2016 년에 아시아 태평양 (서울) 리전을 개설 하고, 2019년 5월에 세 번째 가용 영역 (AZ)으로 리전을 확장 했습니다. 이제 국내 스타트업에서 대기업까지 수만개의 활성 고객이 AWS를 사용하고 있습니다. 한국 고객의 ...'},\n",
       " {'url': 'https://aws.amazon.com/legal/awsk/',\n",
       "  'content': 'AWS는 고객의 요청이 있는 경우 환율 계산을 고객마다 달리 적용할 수 있나요? AWS는 해당 통화로 결제하는 고객에 대하여 동일한 환율을 적용합니다. ... AWS는 Amazon Web Services Korea의 런칭시점에 맞춰 추가 정보를 반영하여 본 FAQ를 지속적으로 업데이트할 것입니다.'}]"
      ]
     },
     "execution_count": 26,
     "metadata": {},
     "output_type": "execute_result"
    }
   ],
   "source": [
    "search.invoke(\"AWS Korea는 어디에 있나요?\")"
   ]
  },
  {
   "cell_type": "code",
   "execution_count": null,
   "id": "440e4470-cbad-4a28-a857-6c8089e884e7",
   "metadata": {},
   "outputs": [],
   "source": []
  }
 ],
 "metadata": {
  "kernelspec": {
   "display_name": "conda_python3",
   "language": "python",
   "name": "conda_python3"
  },
  "language_info": {
   "codemirror_mode": {
    "name": "ipython",
    "version": 3
   },
   "file_extension": ".py",
   "mimetype": "text/x-python",
   "name": "python",
   "nbconvert_exporter": "python",
   "pygments_lexer": "ipython3",
   "version": "3.10.14"
  }
 },
 "nbformat": 4,
 "nbformat_minor": 5
}
