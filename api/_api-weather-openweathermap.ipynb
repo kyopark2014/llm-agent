{
 "cells": [
  {
   "cell_type": "markdown",
   "id": "3c93311f-3ae6-4850-a53c-095f5e847906",
   "metadata": {},
   "source": [
    "# openweathermap\n",
    "https://openweathermap.org/\n",
    "\n",
    "가입후 API Key 가져오기\n",
    "https://home.openweathermap.org/api_keys (몇시간후에 activation된다고 함)"
   ]
  },
  {
   "cell_type": "code",
   "execution_count": 15,
   "id": "fcc27398-4f70-418d-b4b5-94bc94b7aca3",
   "metadata": {
    "tags": []
   },
   "outputs": [
    {
     "name": "stdin",
     "output_type": "stream",
     "text": [
      "Password: ········\n"
     ]
    }
   ],
   "source": [
    "import getpass\n",
    "\n",
    "api_key = getpass.getpass(\"Password:\")"
   ]
  },
  {
   "cell_type": "code",
   "execution_count": 23,
   "id": "1cd7b9e6-aaf7-40ab-9aaf-d3dde743f80a",
   "metadata": {
    "tags": []
   },
   "outputs": [
    {
     "name": "stdout",
     "output_type": "stream",
     "text": [
      "api:  https://api.openweathermap.org/data/2.5/weather?q=Seoul&APPID=30c32c4794b34d696a406459e4b6164b&lang=en&units=metric\n",
      "result:  {'coord': {'lon': 126.9778, 'lat': 37.5683}, 'weather': [{'id': 701, 'main': 'Mist', 'description': 'mist', 'icon': '50d'}], 'base': 'stations', 'main': {'temp': 18.41, 'feels_like': 18.6, 'temp_min': 15.69, 'temp_max': 20.66, 'pressure': 1018, 'humidity': 88}, 'visibility': 3500, 'wind': {'speed': 2.57, 'deg': 330}, 'clouds': {'all': 75}, 'dt': 1716337596, 'sys': {'type': 1, 'id': 8105, 'country': 'KR', 'sunrise': 1716322664, 'sunset': 1716374405}, 'timezone': 32400, 'id': 1835848, 'name': 'Seoul', 'cod': 200}\n"
     ]
    }
   ],
   "source": [
    "import requests\n",
    "import json\n",
    "\n",
    "city = \"Seoul\" \n",
    "apiKey = api_key\n",
    "lang = 'en' \n",
    "units = 'metric' \n",
    "api = f\"https://api.openweathermap.org/data/2.5/weather?q={city}&APPID={apiKey}&lang={lang}&units={units}\"\n",
    "print('api: ', api)\n",
    "\n",
    "result = requests.get(api)\n",
    "result = json.loads(result.text)\n",
    "print('result: ', result)"
   ]
  },
  {
   "cell_type": "code",
   "execution_count": 29,
   "id": "c1290a0c-375e-4389-ad8d-a8dd7422726f",
   "metadata": {
    "tags": []
   },
   "outputs": [
    {
     "name": "stdout",
     "output_type": "stream",
     "text": [
      "18.41\n",
      "Mist\n",
      "mist\n",
      "15.69\n",
      "20.66\n",
      "88\n",
      "2.57\n",
      "75\n"
     ]
    }
   ],
   "source": [
    "overall = result['weather'][0]['main']\n",
    "current_temp = result['main']['temp']\n",
    "min_temp = result['main']['temp_min']\n",
    "max_temp = result['main']['temp_max']\n",
    "humidity = result['main']['humidity']\n",
    "wind_speed = result['wind']['speed']\n",
    "cloud = result['clouds']['all']\n",
    "\n",
    "print(result['main']['temp'])  # 현재온도\n",
    "print(result['weather'][0]['main']) # 날씨, 예) Mist\n",
    "print(result['weather'][0]['description'])\n",
    "print(result['main']['temp_min'])  # 최저온도\n",
    "print(result['main']['temp_max'])  # 최고온도\n",
    "print(result['main']['humidity'])  # 습도\n",
    "print(result['wind']['speed'])  # 바람\n",
    "print(result['clouds']['all'])  # 구름"
   ]
  },
  {
   "cell_type": "code",
   "execution_count": 32,
   "id": "cc443d0b-e203-4646-b630-d6c6b3b01408",
   "metadata": {
    "tags": []
   },
   "outputs": [
    {
     "data": {
      "text/plain": [
       "'오늘의 날씨의 특징은 Mist이며, 현재 온도는 18.41도 이고, 최저온도는 15.69도, 최고 온도는 20.66도 입니다. 현재 습도는 88% 이고, 바람은 초당 2.57 미터 입니다. 구름은 75퍼센트 입니다.'"
      ]
     },
     "execution_count": 32,
     "metadata": {},
     "output_type": "execute_result"
    }
   ],
   "source": [
    "weather_str = f\"오늘의 날씨의 특징은 {overall}이며, 현재 온도는 {current_temp}도 이고, 최저온도는 {min_temp}도, 최고 온도는 {max_temp}도 입니다. 현재 습도는 {humidity}% 이고, 바람은 초당 {wind_speed} 미터 입니다. 구름은 {cloud}퍼센트 입니다.\"\n",
    "weather_str"
   ]
  },
  {
   "cell_type": "code",
   "execution_count": null,
   "id": "0e4437a6-2944-4313-b6b7-73d83f9713f1",
   "metadata": {},
   "outputs": [],
   "source": []
  },
  {
   "cell_type": "code",
   "execution_count": 37,
   "id": "5d710ade-e9ec-4571-a437-682399602449",
   "metadata": {
    "tags": []
   },
   "outputs": [],
   "source": [
    "import requests\n",
    "import json\n",
    "\n",
    "def get_weather_info(city: str) -> str:\n",
    "    \"\"\"\n",
    "    Search weather information by city name and then return weather statement\n",
    "    city: the name of city to search\n",
    "    return: weather statement\n",
    "    \"\"\"    \n",
    "    \n",
    "    apiKey = api_key\n",
    "    lang = 'en' \n",
    "    units = 'metric' \n",
    "    api = f\"https://api.openweathermap.org/data/2.5/weather?q={city}&APPID={apiKey}&lang={lang}&units={units}\"\n",
    "    # print('api: ', api)\n",
    "\n",
    "    result = requests.get(api)\n",
    "    result = json.loads(result.text)\n",
    "    \n",
    "    overall = result['weather'][0]['main']\n",
    "    current_temp = result['main']['temp']\n",
    "    min_temp = result['main']['temp_min']\n",
    "    max_temp = result['main']['temp_max']\n",
    "    humidity = result['main']['humidity']\n",
    "    wind_speed = result['wind']['speed']\n",
    "    cloud = result['clouds']['all']\n",
    "    \n",
    "    weather_str = f\"오늘의 {city} 날씨의 특징은 {overall}이며, 현재 온도는 {current_temp}도 이고, 최저온도는 {min_temp}도, 최고 온도는 {max_temp}도 입니다. 현재 습도는 {humidity}% 이고, 바람은 초당 {wind_speed} 미터 입니다. 구름은 {cloud}% 입니다.\"\n",
    "    return weather_str"
   ]
  },
  {
   "cell_type": "code",
   "execution_count": 38,
   "id": "b1ca5703-d802-4d9a-b9d6-e10d826dae95",
   "metadata": {
    "tags": []
   },
   "outputs": [
    {
     "data": {
      "text/plain": [
       "'오늘의 seoul 날씨의 특징은 Mist이며, 현재 온도는 18.64도 이고, 최저온도는 15.69도, 최고 온도는 21.66도 입니다. 현재 습도는 88% 이고, 바람은 초당 2.57 미터 입니다. 구름은 75% 입니다.'"
      ]
     },
     "execution_count": 38,
     "metadata": {},
     "output_type": "execute_result"
    }
   ],
   "source": [
    "get_weather_info('seoul')"
   ]
  },
  {
   "cell_type": "code",
   "execution_count": null,
   "id": "33e1232c-ab48-4040-9847-097ff9717d16",
   "metadata": {},
   "outputs": [],
   "source": []
  },
  {
   "cell_type": "code",
   "execution_count": null,
   "id": "ec9ccebb-b2c8-490c-864b-cc27fd215aa4",
   "metadata": {},
   "outputs": [],
   "source": []
  },
  {
   "cell_type": "markdown",
   "id": "6448824b-0e94-4780-a967-b2d2d51b2ebb",
   "metadata": {},
   "source": [
    "### Call 16 day / daily forecast data\n",
    "https://openweathermap.org/forecast16\n",
    "\n",
    "api.openweathermap.org/data/2.5/forecast/daily?lat={lat}&lon={lon}&cnt={cnt}&appid={API key}"
   ]
  },
  {
   "cell_type": "code",
   "execution_count": null,
   "id": "094827d5-2455-4142-92ac-34215b8ea7c7",
   "metadata": {},
   "outputs": [],
   "source": []
  },
  {
   "cell_type": "code",
   "execution_count": null,
   "id": "ca9b77fe-2714-466d-b1ae-ba9d9ad88aec",
   "metadata": {},
   "outputs": [],
   "source": []
  },
  {
   "cell_type": "code",
   "execution_count": null,
   "id": "424ab054-0983-4421-ba2d-741c0ca9e9c7",
   "metadata": {},
   "outputs": [],
   "source": []
  },
  {
   "cell_type": "code",
   "execution_count": null,
   "id": "dccdf408-c8f7-4b14-b8a7-5835b534243c",
   "metadata": {},
   "outputs": [],
   "source": []
  },
  {
   "cell_type": "code",
   "execution_count": null,
   "id": "139495f3-3bfc-4ede-b74c-8ef6ece90d75",
   "metadata": {},
   "outputs": [],
   "source": []
  },
  {
   "cell_type": "code",
   "execution_count": null,
   "id": "f52b8c09-4b00-4277-bf98-c94526a50afd",
   "metadata": {},
   "outputs": [],
   "source": []
  },
  {
   "cell_type": "code",
   "execution_count": null,
   "id": "8710db28-3d24-4325-b732-055d98302b95",
   "metadata": {},
   "outputs": [],
   "source": []
  },
  {
   "cell_type": "markdown",
   "id": "e93e666d-a6a7-48fc-a90d-b0fcdd4462f4",
   "metadata": {},
   "source": [
    "# Weather - meteodays\n",
    "https://meteodays.com/ko/weather/today/seoul"
   ]
  },
  {
   "cell_type": "code",
   "execution_count": null,
   "id": "c7f200f3-d8f8-4915-867d-dc4a8d18f3e7",
   "metadata": {},
   "outputs": [],
   "source": [
    "import requests\n",
    "from bs4 import BeautifulSoup\n",
    "\n",
    "def get_weather_info(keyword: str) -> list:\n",
    "    \"\"\"\n",
    "    Search product list by keyword and then return product list\n",
    "    keyword: search keyword\n",
    "    return: product list\n",
    "    \"\"\"\n",
    "\n",
    "    url = f\"https://search.kyobobook.co.kr/search?keyword={keyword}&gbCode=TOT&target=total\"\n",
    "    response = requests.get(url)\n",
    "    if response.status_code == 200:\n",
    "        soup = BeautifulSoup(response.text, \"html.parser\")\n",
    "        prod_info = soup.find_all(\"a\", attrs={\"class\": \"prod_info\"})\n",
    "        prod_list = [\n",
    "            {\"title\": prod.text.strip(), \"link\": prod.get(\"href\")} for prod in prod_info\n",
    "        ]\n",
    "        return prod_list[:5]\n",
    "    else:\n",
    "        return []"
   ]
  },
  {
   "cell_type": "code",
   "execution_count": 8,
   "id": "a5c6b530-0a84-46db-8dc2-cd4fc9bc8393",
   "metadata": {
    "tags": []
   },
   "outputs": [
    {
     "name": "stdout",
     "output_type": "stream",
     "text": [
      "response:  <Response [200]>\n",
      "weather_info:  []\n"
     ]
    }
   ],
   "source": [
    "import requests\n",
    "from bs4 import BeautifulSoup\n",
    "\n",
    "city = 'seoul'\n",
    "url = f\"https://meteodays.com/ko/weather/today/{city}\"\n",
    "url = 'https://meteodays.com/ko/weather/today/seoul'\n",
    "response = requests.get(url)\n",
    "print('response: ', response)\n",
    "\n",
    "if response.status_code == 200:\n",
    "    soup = BeautifulSoup(response.text, \"html.parser\")\n",
    "    \n",
    "    weather_info = soup.find_all(\"a\", attrs={\"class\": \"prod_info\"})\n",
    "    print('weather_info: ', weather_info)\n",
    "    \n",
    "    #prod_list = [\n",
    "    #    {\"title\": prod.text.strip(), \"link\": prod.get(\"href\")} for prod in prod_info\n",
    "    #]\n",
    "    #return prod_list[:5]\n",
    "#else:\n",
    "#    return []"
   ]
  },
  {
   "cell_type": "code",
   "execution_count": null,
   "id": "67b9f3f3-3872-48b3-be9e-923e65f905bc",
   "metadata": {},
   "outputs": [],
   "source": []
  }
 ],
 "metadata": {
  "kernelspec": {
   "display_name": "conda_python3",
   "language": "python",
   "name": "conda_python3"
  },
  "language_info": {
   "codemirror_mode": {
    "name": "ipython",
    "version": 3
   },
   "file_extension": ".py",
   "mimetype": "text/x-python",
   "name": "python",
   "nbconvert_exporter": "python",
   "pygments_lexer": "ipython3",
   "version": "3.10.14"
  }
 },
 "nbformat": 4,
 "nbformat_minor": 5
}
