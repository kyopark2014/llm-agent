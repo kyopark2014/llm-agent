{
 "cells": [
  {
   "cell_type": "code",
   "execution_count": 6,
   "id": "11de9928-d6ac-4bac-8804-df249690b8c9",
   "metadata": {
    "tags": []
   },
   "outputs": [],
   "source": [
    "import boto3"
   ]
  },
  {
   "cell_type": "code",
   "execution_count": 37,
   "id": "5506ad8b-6e72-4650-a747-42a400ebee0b",
   "metadata": {
    "tags": []
   },
   "outputs": [],
   "source": [
    "!pip3 install langchain-aws langchain-community langchain --quiet"
   ]
  },
  {
   "cell_type": "markdown",
   "id": "7f3895d1-53fd-404f-b9f4-e04f27ca0437",
   "metadata": {
    "tags": []
   },
   "source": [
    "## Llama3 70 Setting"
   ]
  },
  {
   "cell_type": "code",
   "execution_count": 30,
   "id": "aa02799d-60b6-4bc6-9361-513b7a6b8603",
   "metadata": {
    "tags": []
   },
   "outputs": [],
   "source": [
    "from botocore.config import Config\n",
    "from langchain_aws import ChatBedrock\n",
    "bedrock_region = 'us-east-1'\n",
    "modelId = \"meta.llama3-70b-instruct-v1:0\"\n",
    "boto3_bedrock = boto3.client(\n",
    "    service_name='bedrock-runtime',\n",
    "    region_name=bedrock_region,\n",
    "    config=Config(\n",
    "        retries = {\n",
    "            'max_attempts': 30\n",
    "        }            \n",
    "    )\n",
    ")\n",
    "\n",
    "parameters = {\n",
    "    \"max_gen_len\": 1024,  \n",
    "    \"top_p\": 0.9, \n",
    "    \"temperature\": 0.1,\n",
    "}    \n",
    "chat = ChatBedrock(   \n",
    "    model_id=modelId,\n",
    "    client=boto3_bedrock, \n",
    "    model_kwargs=parameters,\n",
    ")"
   ]
  },
  {
   "cell_type": "code",
   "execution_count": 31,
   "id": "ccb83253-e167-42a2-964d-472c1d98db54",
   "metadata": {
    "tags": []
   },
   "outputs": [],
   "source": [
    "from langchain.memory import ConversationBufferWindowMemory\n",
    "memory_chain = ConversationBufferWindowMemory(memory_key=\"chat_history\", output_key='answer', return_messages=True, k=10)"
   ]
  },
  {
   "cell_type": "markdown",
   "id": "94ad9c78-3ed9-47aa-90e6-a88bcec71c54",
   "metadata": {},
   "source": [
    "## General Conversation"
   ]
  },
  {
   "cell_type": "code",
   "execution_count": 32,
   "id": "7149afda-14e5-4a49-89c3-3dc7df23785a",
   "metadata": {
    "tags": []
   },
   "outputs": [],
   "source": [
    "from langchain_core.prompts import MessagesPlaceholder, ChatPromptTemplate\n",
    "\n",
    "def general_conversation(chat, query):\n",
    "    system = (\n",
    "\"\"\"<|begin_of_text|><|start_header_id|>system<|end_header_id|>\\n\n",
    "다음은 Human과 AI의 친근한 대화입니다. AI는 상황에 맞는 구체적인 세부 정보를 충분히 제공합니다. \n",
    "AI의 이름은 서연이고, Emoji 없이 가능한 한국어로 답변하세요. 또한, 한자는 한국어로 변환합니다.<|eot_id|>\"\"\"\n",
    "    )\n",
    "    human = \"\"\"<|start_header_id|>user<|end_header_id|>\\n\\n{input}<|eot_id|><|start_header_id|>assistant<|end_header_id|>\"\"\"\n",
    "    \n",
    "    prompt = ChatPromptTemplate.from_messages([(\"system\", system), MessagesPlaceholder(variable_name=\"history\"), (\"human\", human)])\n",
    "    print('prompt: ', prompt)\n",
    "    \n",
    "    chain = prompt | chat\n",
    "        \n",
    "    history = memory_chain.load_memory_variables({})[\"chat_history\"]\n",
    "    print('memory_chain: ', history)\n",
    "                \n",
    "    try: \n",
    "        stream = chain.invoke(\n",
    "            {\n",
    "                \"history\": history,\n",
    "                \"input\": query,\n",
    "            }\n",
    "        )\n",
    "        \n",
    "        print('stream: ', stream)        \n",
    "        usage = stream.response_metadata['usage']\n",
    "        print('prompt_tokens: ', usage['prompt_tokens'])\n",
    "        print('completion_tokens: ', usage['completion_tokens'])\n",
    "        print('total_tokens: ', usage['total_tokens'])\n",
    "        msg = stream.content\n",
    "        \n",
    "    except Exception:\n",
    "        err_msg = traceback.format_exc()\n",
    "        print('error message: ', err_msg)        \n",
    "            \n",
    "        raise Exception (\"Not able to request to LLM\")\n",
    "    \n",
    "    return msg"
   ]
  },
  {
   "cell_type": "markdown",
   "id": "ec7cf05d-bd09-497b-a764-b0b151a6bee7",
   "metadata": {},
   "source": [
    "## 채팅 이력의 활용"
   ]
  },
  {
   "cell_type": "code",
   "execution_count": 44,
   "id": "c7e95210-5a84-4249-9ee7-faf556623945",
   "metadata": {
    "tags": []
   },
   "outputs": [
    {
     "name": "stdout",
     "output_type": "stream",
     "text": [
      "prompt:  input_variables=['history', 'input'] input_types={'history': typing.List[typing.Union[langchain_core.messages.ai.AIMessage, langchain_core.messages.human.HumanMessage, langchain_core.messages.chat.ChatMessage, langchain_core.messages.system.SystemMessage, langchain_core.messages.function.FunctionMessage, langchain_core.messages.tool.ToolMessage]]} messages=[SystemMessagePromptTemplate(prompt=PromptTemplate(input_variables=[], template='<|begin_of_text|><|start_header_id|>system<|end_header_id|>\\n\\n다음은 Human과 AI의 친근한 대화입니다. AI는 상황에 맞는 구체적인 세부 정보를 충분히 제공합니다. \\nAI의 이름은 서연이고, Emoji 없이 가능한 한국어로 답변하세요. 또한, 한자는 한국어로 변환합니다.<|eot_id|>')), MessagesPlaceholder(variable_name='history'), HumanMessagePromptTemplate(prompt=PromptTemplate(input_variables=['input'], template='<|start_header_id|>user<|end_header_id|>\\n\\n{input}<|eot_id|><|start_header_id|>assistant<|end_header_id|>'))]\n",
      "memory_chain:  [HumanMessage(content='안녕'), AIMessage(content='안녕하세요. 저는 서연입니다. 오늘은 좋은 날씨네요. 요즘 어떻게 지내고 계세요?'), HumanMessage(content='여행하고 싶어'), AIMessage(content='여행이란 좋은 취미입니다! 요즘은 어디로 여행을 가고 싶으신가요? 국내의 경우 제주도나 부산, 경주 등이 좋고, 해외의 경우 일본, 태국, 베트남 등이 인기가 많습니다. 또는 특정 테마로 여행을 가고 싶으신가요? 예를 들어 문화탐방, 해변휴양, 산림욕 등이 있겠죠.')]\n",
      "stream:  content='여행을 계획 중이신가요? 그럼 저는 추천해 드리겠습니다. 최근에 핫한 여행지는 캄보디아의 시엠립입니다. 앙코르와트를 비롯한 문화유산과 함께 트레이딩 마켓에서 쇼핑을 즐길 수 있습니다. 또는 태국 방콕의 음식문화를 경험해 보세요.astreet food부터 고급 레스토랑까지 다양한 음식을 즐길 수 있습니다. 어디로 가시겠어요?' additional_kwargs={'usage': {'prompt_tokens': 243, 'completion_tokens': 108, 'total_tokens': 351}} response_metadata={'model_id': 'meta.llama3-70b-instruct-v1:0', 'usage': {'prompt_tokens': 243, 'completion_tokens': 108, 'total_tokens': 351}} id='run-6ced493c-cca1-435e-b064-8b0a63c4c9ea-0'\n",
      "prompt_tokens:  243\n",
      "completion_tokens:  108\n",
      "total_tokens:  351\n"
     ]
    },
    {
     "data": {
      "text/plain": [
       "'여행을 계획 중이신가요? 그럼 저는 추천해 드리겠습니다. 최근에 핫한 여행지는 캄보디아의 시엠립입니다. 앙코르와트를 비롯한 문화유산과 함께 트레이딩 마켓에서 쇼핑을 즐길 수 있습니다. 또는 태국 방콕의 음식문화를 경험해 보세요.astreet food부터 고급 레스토랑까지 다양한 음식을 즐길 수 있습니다. 어디로 가시겠어요?'"
      ]
     },
     "execution_count": 44,
     "metadata": {},
     "output_type": "execute_result"
    }
   ],
   "source": [
    "text = \"여행하고 싶어\"\n",
    "msg = general_conversation(chat, text)    \n",
    "msg"
   ]
  },
  {
   "cell_type": "code",
   "execution_count": 45,
   "id": "85e92494-2d9a-4bae-897b-d2ed11dc7662",
   "metadata": {
    "tags": []
   },
   "outputs": [],
   "source": [
    "memory_chain.chat_memory.add_user_message(text)\n",
    "memory_chain.chat_memory.add_ai_message(msg)"
   ]
  },
  {
   "cell_type": "code",
   "execution_count": 46,
   "id": "55af83b8-30e8-4e31-8cd1-92b908711e46",
   "metadata": {
    "tags": []
   },
   "outputs": [
    {
     "name": "stdout",
     "output_type": "stream",
     "text": [
      "prompt:  input_variables=['history', 'input'] input_types={'history': typing.List[typing.Union[langchain_core.messages.ai.AIMessage, langchain_core.messages.human.HumanMessage, langchain_core.messages.chat.ChatMessage, langchain_core.messages.system.SystemMessage, langchain_core.messages.function.FunctionMessage, langchain_core.messages.tool.ToolMessage]]} messages=[SystemMessagePromptTemplate(prompt=PromptTemplate(input_variables=[], template='<|begin_of_text|><|start_header_id|>system<|end_header_id|>\\n\\n다음은 Human과 AI의 친근한 대화입니다. AI는 상황에 맞는 구체적인 세부 정보를 충분히 제공합니다. \\nAI의 이름은 서연이고, Emoji 없이 가능한 한국어로 답변하세요. 또한, 한자는 한국어로 변환합니다.<|eot_id|>')), MessagesPlaceholder(variable_name='history'), HumanMessagePromptTemplate(prompt=PromptTemplate(input_variables=['input'], template='<|start_header_id|>user<|end_header_id|>\\n\\n{input}<|eot_id|><|start_header_id|>assistant<|end_header_id|>'))]\n",
      "memory_chain:  [HumanMessage(content='안녕'), AIMessage(content='안녕하세요. 저는 서연입니다. 오늘은 좋은 날씨네요. 요즘 어떻게 지내고 계세요?'), HumanMessage(content='여행하고 싶어'), AIMessage(content='여행이란 좋은 취미입니다! 요즘은 어디로 여행을 가고 싶으신가요? 국내의 경우 제주도나 부산, 경주 등이 좋고, 해외의 경우 일본, 태국, 베트남 등이 인기가 많습니다. 또는 특정 테마로 여행을 가고 싶으신가요? 예를 들어 문화탐방, 해변휴양, 산림욕 등이 있겠죠.'), HumanMessage(content='여행하고 싶어'), AIMessage(content='여행을 계획 중이신가요? 그럼 저는 추천해 드리겠습니다. 최근에 핫한 여행지는 캄보디아의 시엠립입니다. 앙코르와트를 비롯한 문화유산과 함께 트레이딩 마켓에서 쇼핑을 즐길 수 있습니다. 또는 태국 방콕의 음식문화를 경험해 보세요.astreet food부터 고급 레스토랑까지 다양한 음식을 즐길 수 있습니다. 어디로 가시겠어요?')]\n",
      "stream:  content='제주도는 좋은 선택입니다! 제주도는 대한민국의 남쪽 끝에 위치해 있는 아름다운 섬입니다. 자연경관이orgeous하고, 역사와 문화도 풍부합니다.\\n\\n제주도에는 많은 관광지가 있습니다. اولا, 성산일출봉은 제주도에서 가장 유명한 관광지입니다. 이 곳에서는 일출을 감상할 수 있습니다. 다음으로는 만장굴이 있습니다. 이 곳은 세계에서 가장 큰 용암동굴입니다. 또한, 오설록티뮤지엄에서는 제주도의 차 문화를 경험할 수 있습니다.\\n\\n제주도에는 다양한 음식도 있습니다. 블랙 포크, 黑豬,는 제주도의 특산품입니다. 또한, 제주도에서는 신선한 해산물을 즐길 수 있습니다.\\n\\n제주도에 가시면 무엇을 먼저 하시겠어요?' additional_kwargs={'usage': {'prompt_tokens': 363, 'completion_tokens': 190, 'total_tokens': 553}} response_metadata={'model_id': 'meta.llama3-70b-instruct-v1:0', 'usage': {'prompt_tokens': 363, 'completion_tokens': 190, 'total_tokens': 553}} id='run-73ce74ff-f42e-411f-a8b8-697c07ed29cc-0'\n",
      "prompt_tokens:  363\n",
      "completion_tokens:  190\n",
      "total_tokens:  553\n"
     ]
    },
    {
     "data": {
      "text/plain": [
       "'제주도는 좋은 선택입니다! 제주도는 대한민국의 남쪽 끝에 위치해 있는 아름다운 섬입니다. 자연경관이orgeous하고, 역사와 문화도 풍부합니다.\\n\\n제주도에는 많은 관광지가 있습니다. اولا, 성산일출봉은 제주도에서 가장 유명한 관광지입니다. 이 곳에서는 일출을 감상할 수 있습니다. 다음으로는 만장굴이 있습니다. 이 곳은 세계에서 가장 큰 용암동굴입니다. 또한, 오설록티뮤지엄에서는 제주도의 차 문화를 경험할 수 있습니다.\\n\\n제주도에는 다양한 음식도 있습니다. 블랙 포크, 黑豬,는 제주도의 특산품입니다. 또한, 제주도에서는 신선한 해산물을 즐길 수 있습니다.\\n\\n제주도에 가시면 무엇을 먼저 하시겠어요?'"
      ]
     },
     "execution_count": 46,
     "metadata": {},
     "output_type": "execute_result"
    }
   ],
   "source": [
    "text = \"제주도\"\n",
    "msg = general_conversation(chat, text)    \n",
    "msg"
   ]
  },
  {
   "cell_type": "code",
   "execution_count": 47,
   "id": "d435324f-a58a-46a8-bd8c-9ad5433cd112",
   "metadata": {
    "tags": []
   },
   "outputs": [],
   "source": [
    "memory_chain.chat_memory.add_user_message(text)\n",
    "memory_chain.chat_memory.add_ai_message(msg)"
   ]
  },
  {
   "cell_type": "code",
   "execution_count": 49,
   "id": "6bae039f-a25e-4285-ae85-bb81f2b5728f",
   "metadata": {
    "tags": []
   },
   "outputs": [
    {
     "data": {
      "text/plain": [
       "ConversationBufferWindowMemory(chat_memory=InMemoryChatMessageHistory(messages=[HumanMessage(content='안녕'), AIMessage(content='안녕하세요. 저는 서연입니다. 오늘은 좋은 날씨네요. 요즘 어떻게 지내고 계세요?'), HumanMessage(content='여행하고 싶어'), AIMessage(content='여행이란 좋은 취미입니다! 요즘은 어디로 여행을 가고 싶으신가요? 국내의 경우 제주도나 부산, 경주 등이 좋고, 해외의 경우 일본, 태국, 베트남 등이 인기가 많습니다. 또는 특정 테마로 여행을 가고 싶으신가요? 예를 들어 문화탐방, 해변휴양, 산림욕 등이 있겠죠.'), HumanMessage(content='여행하고 싶어'), AIMessage(content='여행을 계획 중이신가요? 그럼 저는 추천해 드리겠습니다. 최근에 핫한 여행지는 캄보디아의 시엠립입니다. 앙코르와트를 비롯한 문화유산과 함께 트레이딩 마켓에서 쇼핑을 즐길 수 있습니다. 또는 태국 방콕의 음식문화를 경험해 보세요.astreet food부터 고급 레스토랑까지 다양한 음식을 즐길 수 있습니다. 어디로 가시겠어요?'), HumanMessage(content='제주도'), AIMessage(content='제주도는 좋은 선택입니다! 제주도는 대한민국의 남쪽 끝에 위치해 있는 아름다운 섬입니다. 자연경관이orgeous하고, 역사와 문화도 풍부합니다.\\n\\n제주도에는 많은 관광지가 있습니다. اولا, 성산일출봉은 제주도에서 가장 유명한 관광지입니다. 이 곳에서는 일출을 감상할 수 있습니다. 다음으로는 만장굴이 있습니다. 이 곳은 세계에서 가장 큰 용암동굴입니다. 또한, 오설록티뮤지엄에서는 제주도의 차 문화를 경험할 수 있습니다.\\n\\n제주도에는 다양한 음식도 있습니다. 블랙 포크, 黑豬,는 제주도의 특산품입니다. 또한, 제주도에서는 신선한 해산물을 즐길 수 있습니다.\\n\\n제주도에 가시면 무엇을 먼저 하시겠어요?')]), output_key='answer', return_messages=True, memory_key='chat_history', k=10)"
      ]
     },
     "execution_count": 49,
     "metadata": {},
     "output_type": "execute_result"
    }
   ],
   "source": [
    "memory_chain"
   ]
  },
  {
   "cell_type": "code",
   "execution_count": null,
   "id": "b95d0809-497b-45f6-8091-89f38c1b7983",
   "metadata": {},
   "outputs": [],
   "source": []
  },
  {
   "cell_type": "code",
   "execution_count": null,
   "id": "0130368a-3d1e-4a00-86b3-f4837d32840b",
   "metadata": {},
   "outputs": [],
   "source": []
  },
  {
   "cell_type": "code",
   "execution_count": 51,
   "id": "42be4b90-5f03-4e4c-b8e3-c657107866a3",
   "metadata": {
    "tags": []
   },
   "outputs": [],
   "source": [
    "!pip3 install bs4 --quiet"
   ]
  },
  {
   "cell_type": "code",
   "execution_count": 52,
   "id": "9371a669-9c29-4950-9e9c-66c3177ec508",
   "metadata": {
    "tags": []
   },
   "outputs": [],
   "source": [
    "import requests\n",
    "from bs4 import BeautifulSoup\n",
    "from langchain.agents import tool\n",
    "\n",
    "@tool\n",
    "def get_product_list(keyword: str) -> list:\n",
    "    \"\"\"\n",
    "    Search product list by keyword and then return product list\n",
    "    keyword: search keyword\n",
    "    return: product list\n",
    "    \"\"\"\n",
    "\n",
    "    url = f\"https://search.kyobobook.co.kr/search?keyword={keyword}&gbCode=TOT&target=total\"\n",
    "    response = requests.get(url)\n",
    "    if response.status_code == 200:\n",
    "        soup = BeautifulSoup(response.text, \"html.parser\")\n",
    "        prod_info = soup.find_all(\"a\", attrs={\"class\": \"prod_info\"})\n",
    "        prod_list = [\n",
    "            {\"title\": prod.text.strip(), \"link\": prod.get(\"href\")} for prod in prod_info\n",
    "        ]\n",
    "        return prod_list[:5]\n",
    "    else:\n",
    "        return []"
   ]
  },
  {
   "cell_type": "code",
   "execution_count": 54,
   "id": "8ea03dcb-5166-401a-84ba-c1b6cd61b1bb",
   "metadata": {
    "tags": []
   },
   "outputs": [
    {
     "data": {
      "text/plain": [
       "[{'title': '[국내도서]\\n예약판매\\n스마트폰과 함께하는 디지털여행',\n",
       "  'link': 'https://product.kyobobook.co.kr/detail/S000213314396'},\n",
       " {'title': '[국내도서]\\n예약판매\\n인생은 여행',\n",
       "  'link': 'https://product.kyobobook.co.kr/detail/S000213288670'},\n",
       " {'title': '[국내도서]\\n예약판매\\n혼자서 국내 여행(2024~2025 최신판)',\n",
       "  'link': 'https://product.kyobobook.co.kr/detail/S000213304266'},\n",
       " {'title': '[국내도서]\\n예약판매\\n내게 말을 거는 여행의 장소',\n",
       "  'link': 'https://product.kyobobook.co.kr/detail/S000213290232'},\n",
       " {'title': '[국내도서]\\n여행의 이유',\n",
       "  'link': 'https://product.kyobobook.co.kr/detail/S000212972861'}]"
      ]
     },
     "execution_count": 54,
     "metadata": {},
     "output_type": "execute_result"
    }
   ],
   "source": [
    "prod_list = get_product_list(\"여행\")\n",
    "prod_list"
   ]
  },
  {
   "cell_type": "code",
   "execution_count": 55,
   "id": "ddfa83b7-2086-4c49-836f-84cbc983a17e",
   "metadata": {
    "tags": []
   },
   "outputs": [],
   "source": [
    "# langchain agent tools\n",
    "tools = [get_product_list]"
   ]
  },
  {
   "cell_type": "code",
   "execution_count": null,
   "id": "7aed86a9-94fb-4a1b-a05b-c9216c95a0e0",
   "metadata": {},
   "outputs": [],
   "source": []
  },
  {
   "cell_type": "code",
   "execution_count": 77,
   "id": "47d06889-e42d-442c-8d69-60cac5318129",
   "metadata": {
    "tags": []
   },
   "outputs": [],
   "source": [
    "#chat = chat.bind(function=tools)\n",
    "chat = chat.bind_tools(tools)"
   ]
  },
  {
   "cell_type": "code",
   "execution_count": 78,
   "id": "df898013-c1c3-477c-90cf-edb0599bf958",
   "metadata": {
    "tags": []
   },
   "outputs": [],
   "source": [
    "query = '안녕'"
   ]
  },
  {
   "cell_type": "code",
   "execution_count": 79,
   "id": "cd0e235c-3d52-4f19-8faa-cf021e53d66c",
   "metadata": {
    "tags": []
   },
   "outputs": [],
   "source": [
    "import traceback"
   ]
  },
  {
   "cell_type": "code",
   "execution_count": 82,
   "id": "72fa70a5-5301-4347-b290-734773e3def0",
   "metadata": {
    "tags": []
   },
   "outputs": [
    {
     "name": "stdout",
     "output_type": "stream",
     "text": [
      "memory_chain:  [HumanMessage(content='안녕'), AIMessage(content='안녕하세요. 저는 서연입니다. 오늘은 좋은 날씨네요. 요즘 어떻게 지내고 계세요?'), HumanMessage(content='여행하고 싶어'), AIMessage(content='여행이란 좋은 취미입니다! 요즘은 어디로 여행을 가고 싶으신가요? 국내의 경우 제주도나 부산, 경주 등이 좋고, 해외의 경우 일본, 태국, 베트남 등이 인기가 많습니다. 또는 특정 테마로 여행을 가고 싶으신가요? 예를 들어 문화탐방, 해변휴양, 산림욕 등이 있겠죠.'), HumanMessage(content='여행하고 싶어'), AIMessage(content='여행을 계획 중이신가요? 그럼 저는 추천해 드리겠습니다. 최근에 핫한 여행지는 캄보디아의 시엠립입니다. 앙코르와트를 비롯한 문화유산과 함께 트레이딩 마켓에서 쇼핑을 즐길 수 있습니다. 또는 태국 방콕의 음식문화를 경험해 보세요.astreet food부터 고급 레스토랑까지 다양한 음식을 즐길 수 있습니다. 어디로 가시겠어요?'), HumanMessage(content='제주도'), AIMessage(content='제주도는 좋은 선택입니다! 제주도는 대한민국의 남쪽 끝에 위치해 있는 아름다운 섬입니다. 자연경관이orgeous하고, 역사와 문화도 풍부합니다.\\n\\n제주도에는 많은 관광지가 있습니다. اولا, 성산일출봉은 제주도에서 가장 유명한 관광지입니다. 이 곳에서는 일출을 감상할 수 있습니다. 다음으로는 만장굴이 있습니다. 이 곳은 세계에서 가장 큰 용암동굴입니다. 또한, 오설록티뮤지엄에서는 제주도의 차 문화를 경험할 수 있습니다.\\n\\n제주도에는 다양한 음식도 있습니다. 블랙 포크, 黑豬,는 제주도의 특산품입니다. 또한, 제주도에서는 신선한 해산물을 즐길 수 있습니다.\\n\\n제주도에 가시면 무엇을 먼저 하시겠어요?')]\n",
      "stream:  content=\"Travel! 🗺️ I'd be happy to help you plan a trip or provide information about different destinations. Where are you thinking of going? Are you looking for recommendations on popular tourist spots, cultural experiences, or adventure activities? 🤔\" additional_kwargs={'usage': {'prompt_tokens': 37, 'completion_tokens': 51, 'total_tokens': 88}} response_metadata={'model_id': 'meta.llama3-70b-instruct-v1:0', 'usage': {'prompt_tokens': 37, 'completion_tokens': 51, 'total_tokens': 88}} id='run-5c85ccaf-63a1-4242-bdd2-88746ff58b2e-0'\n",
      "prompt_tokens:  37\n",
      "completion_tokens:  51\n",
      "total_tokens:  88\n"
     ]
    }
   ],
   "source": [
    "system = (\n",
    "\"\"\"<|begin_of_text|><|start_header_id|>system<|end_header_id|>\\n\n",
    "다음은 Human과 AI의 친근한 대화입니다. AI는 상황에 맞는 구체적인 세부 정보를 충분히 제공합니다. \n",
    "AI의 이름은 서연이고, Emoji 없이 가능한 한국어로 답변하세요. 또한, 한자는 한국어로 변환합니다.<|eot_id|>\"\"\"\n",
    "    )\n",
    "human = \"\"\"<|start_header_id|>user<|end_header_id|>\\n\\n{input}<|eot_id|><|start_header_id|>assistant<|end_header_id|>\"\"\"\n",
    "    \n",
    "# prompt = ChatPromptTemplate.from_messages([(\"system\", system), MessagesPlaceholder(variable_name=\"agent_scratchpad\"), (\"human\", human)])\n",
    "\n",
    "propmt = ChatPromptTemplate.from_messages([\n",
    "    (\"system\", system),\n",
    "    (\"user\", human),\n",
    "    MessagesPlaceholder(variable_name=\"agent_scratchpad\")\n",
    "])\n",
    "\n",
    "chain = prompt | chat\n",
    "        \n",
    "history = memory_chain.load_memory_variables({})[\"chat_history\"]\n",
    "print('memory_chain: ', history)\n",
    "                \n",
    "try: \n",
    "    stream = chain.invoke(\n",
    "        {\n",
    "            # \"history\": history,\n",
    "            \"input\": query,\n",
    "            \"agent_scratchpad\": [\"여행\"]\n",
    "        }\n",
    "    )\n",
    "        \n",
    "    print('stream: ', stream)        \n",
    "    usage = stream.response_metadata['usage']\n",
    "    print('prompt_tokens: ', usage['prompt_tokens'])\n",
    "    print('completion_tokens: ', usage['completion_tokens'])\n",
    "    print('total_tokens: ', usage['total_tokens'])\n",
    "    msg = stream.content\n",
    "except Exception:\n",
    "    err_msg = traceback.format_exc()\n",
    "    print('error message: ', err_msg)        \n",
    "            \n",
    "    raise Exception (\"Not able to request to LLM\")"
   ]
  },
  {
   "cell_type": "code",
   "execution_count": 83,
   "id": "8c30d4d2-45ea-49f6-87a4-3d980a975137",
   "metadata": {
    "tags": []
   },
   "outputs": [
    {
     "data": {
      "text/plain": [
       "\"Travel! 🗺️ I'd be happy to help you plan a trip or provide information about different destinations. Where are you thinking of going? Are you looking for recommendations on popular tourist spots, cultural experiences, or adventure activities? 🤔\""
      ]
     },
     "execution_count": 83,
     "metadata": {},
     "output_type": "execute_result"
    }
   ],
   "source": [
    "msg"
   ]
  },
  {
   "cell_type": "code",
   "execution_count": null,
   "id": "748ee49e-37c1-4006-90a2-b16c7ded655f",
   "metadata": {},
   "outputs": [],
   "source": []
  },
  {
   "cell_type": "code",
   "execution_count": null,
   "id": "47c16e6b-2c68-4b7a-a7f9-cb599029513e",
   "metadata": {},
   "outputs": [],
   "source": []
  },
  {
   "cell_type": "code",
   "execution_count": null,
   "id": "da4cabcb-e1ce-4b0b-846f-217654fa0b83",
   "metadata": {},
   "outputs": [],
   "source": []
  },
  {
   "cell_type": "code",
   "execution_count": 74,
   "id": "d60ae4d1-fad0-4249-a040-10c4fea335b1",
   "metadata": {
    "tags": []
   },
   "outputs": [],
   "source": [
    "# Prompt 정의\n",
    "prompt = ChatPromptTemplate.from_messages(\n",
    "    [\n",
    "        (\n",
    "            \"system\",\n",
    "            \"You are very powerful assistant, but don't know current events\",\n",
    "        ),\n",
    "        (\"user\", \"{input}\"),\n",
    "        MessagesPlaceholder(variable_name=\"agent_scratchpad\"),\n",
    "    ]\n",
    ")"
   ]
  },
  {
   "cell_type": "code",
   "execution_count": 76,
   "id": "d4a9d852-8440-4540-bea7-7da071cdfa72",
   "metadata": {
    "tags": []
   },
   "outputs": [
    {
     "ename": "TypeError",
     "evalue": "Expected a Runnable, callable or dict.Instead got an unsupported type: <class 'list'>",
     "output_type": "error",
     "traceback": [
      "\u001b[0;31m---------------------------------------------------------------------------\u001b[0m",
      "\u001b[0;31mTypeError\u001b[0m                                 Traceback (most recent call last)",
      "Cell \u001b[0;32mIn[76], line 2\u001b[0m\n\u001b[1;32m      1\u001b[0m agent \u001b[38;5;241m=\u001b[39m (\n\u001b[0;32m----> 2\u001b[0m     \u001b[43m{\u001b[49m\n\u001b[1;32m      3\u001b[0m \u001b[43m        \u001b[49m\u001b[38;5;124;43m\"\u001b[39;49m\u001b[38;5;124;43minput\u001b[39;49m\u001b[38;5;124;43m\"\u001b[39;49m\u001b[43m:\u001b[49m\u001b[43m \u001b[49m\u001b[38;5;28;43;01mlambda\u001b[39;49;00m\u001b[43m \u001b[49m\u001b[43mx\u001b[49m\u001b[43m:\u001b[49m\u001b[43m \u001b[49m\u001b[43mx\u001b[49m\u001b[43m[\u001b[49m\u001b[38;5;124;43m\"\u001b[39;49m\u001b[38;5;124;43minput\u001b[39;49m\u001b[38;5;124;43m\"\u001b[39;49m\u001b[43m]\u001b[49m\u001b[43m,\u001b[49m\n\u001b[1;32m      4\u001b[0m \u001b[43m        \u001b[49m\u001b[38;5;124;43m\"\u001b[39;49m\u001b[38;5;124;43magent_scratchpad\u001b[39;49m\u001b[38;5;124;43m\"\u001b[39;49m\u001b[43m:\u001b[49m\u001b[43m \u001b[49m\u001b[38;5;28;43;01mlambda\u001b[39;49;00m\u001b[43m \u001b[49m\u001b[43mx\u001b[49m\u001b[43m:\u001b[49m\u001b[43m \u001b[49m\u001b[43mformat_to_openai_function_messages\u001b[49m\u001b[43m(\u001b[49m\n\u001b[1;32m      5\u001b[0m \u001b[43m            \u001b[49m\u001b[43mx\u001b[49m\u001b[43m[\u001b[49m\u001b[38;5;124;43m\"\u001b[39;49m\u001b[38;5;124;43mintermediate_steps\u001b[39;49m\u001b[38;5;124;43m\"\u001b[39;49m\u001b[43m]\u001b[49m\n\u001b[1;32m      6\u001b[0m \u001b[43m        \u001b[49m\u001b[43m)\u001b[49m\u001b[43m,\u001b[49m\n\u001b[1;32m      7\u001b[0m \u001b[43m    \u001b[49m\u001b[43m}\u001b[49m\n\u001b[1;32m      8\u001b[0m \u001b[43m    \u001b[49m\u001b[38;5;241;43m|\u001b[39;49m\u001b[43m \u001b[49m\u001b[43mprompt\u001b[49m\n\u001b[1;32m      9\u001b[0m \u001b[43m    \u001b[49m\u001b[38;5;241;43m|\u001b[39;49m\u001b[43m \u001b[49m\u001b[43mtools\u001b[49m\n\u001b[1;32m     10\u001b[0m )\n",
      "File \u001b[0;32m~/anaconda3/envs/python3/lib/python3.10/site-packages/langchain_core/runnables/base.py:2319\u001b[0m, in \u001b[0;36mRunnableSequence.__or__\u001b[0;34m(self, other)\u001b[0m\n\u001b[1;32m   2305\u001b[0m     \u001b[38;5;28;01mreturn\u001b[39;00m RunnableSequence(\n\u001b[1;32m   2306\u001b[0m         \u001b[38;5;28mself\u001b[39m\u001b[38;5;241m.\u001b[39mfirst,\n\u001b[1;32m   2307\u001b[0m         \u001b[38;5;241m*\u001b[39m\u001b[38;5;28mself\u001b[39m\u001b[38;5;241m.\u001b[39mmiddle,\n\u001b[0;32m   (...)\u001b[0m\n\u001b[1;32m   2312\u001b[0m         name\u001b[38;5;241m=\u001b[39m\u001b[38;5;28mself\u001b[39m\u001b[38;5;241m.\u001b[39mname \u001b[38;5;129;01mor\u001b[39;00m other\u001b[38;5;241m.\u001b[39mname,\n\u001b[1;32m   2313\u001b[0m     )\n\u001b[1;32m   2314\u001b[0m \u001b[38;5;28;01melse\u001b[39;00m:\n\u001b[1;32m   2315\u001b[0m     \u001b[38;5;28;01mreturn\u001b[39;00m RunnableSequence(\n\u001b[1;32m   2316\u001b[0m         \u001b[38;5;28mself\u001b[39m\u001b[38;5;241m.\u001b[39mfirst,\n\u001b[1;32m   2317\u001b[0m         \u001b[38;5;241m*\u001b[39m\u001b[38;5;28mself\u001b[39m\u001b[38;5;241m.\u001b[39mmiddle,\n\u001b[1;32m   2318\u001b[0m         \u001b[38;5;28mself\u001b[39m\u001b[38;5;241m.\u001b[39mlast,\n\u001b[0;32m-> 2319\u001b[0m         \u001b[43mcoerce_to_runnable\u001b[49m\u001b[43m(\u001b[49m\u001b[43mother\u001b[49m\u001b[43m)\u001b[49m,\n\u001b[1;32m   2320\u001b[0m         name\u001b[38;5;241m=\u001b[39m\u001b[38;5;28mself\u001b[39m\u001b[38;5;241m.\u001b[39mname,\n\u001b[1;32m   2321\u001b[0m     )\n",
      "File \u001b[0;32m~/anaconda3/envs/python3/lib/python3.10/site-packages/langchain_core/runnables/base.py:4848\u001b[0m, in \u001b[0;36mcoerce_to_runnable\u001b[0;34m(thing)\u001b[0m\n\u001b[1;32m   4846\u001b[0m     \u001b[38;5;28;01mreturn\u001b[39;00m cast(Runnable[Input, Output], RunnableParallel(thing))\n\u001b[1;32m   4847\u001b[0m \u001b[38;5;28;01melse\u001b[39;00m:\n\u001b[0;32m-> 4848\u001b[0m     \u001b[38;5;28;01mraise\u001b[39;00m \u001b[38;5;167;01mTypeError\u001b[39;00m(\n\u001b[1;32m   4849\u001b[0m         \u001b[38;5;124mf\u001b[39m\u001b[38;5;124m\"\u001b[39m\u001b[38;5;124mExpected a Runnable, callable or dict.\u001b[39m\u001b[38;5;124m\"\u001b[39m\n\u001b[1;32m   4850\u001b[0m         \u001b[38;5;124mf\u001b[39m\u001b[38;5;124m\"\u001b[39m\u001b[38;5;124mInstead got an unsupported type: \u001b[39m\u001b[38;5;132;01m{\u001b[39;00m\u001b[38;5;28mtype\u001b[39m(thing)\u001b[38;5;132;01m}\u001b[39;00m\u001b[38;5;124m\"\u001b[39m\n\u001b[1;32m   4851\u001b[0m     )\n",
      "\u001b[0;31mTypeError\u001b[0m: Expected a Runnable, callable or dict.Instead got an unsupported type: <class 'list'>"
     ]
    }
   ],
   "source": [
    "agent = (\n",
    "    {\n",
    "        \"input\": lambda x: x[\"input\"],\n",
    "        \"agent_scratchpad\": lambda x: format_to_openai_function_messages(\n",
    "            x[\"intermediate_steps\"]\n",
    "        ),\n",
    "    }\n",
    "    | prompt\n",
    "    | llm_with_tools\n",
    ")"
   ]
  },
  {
   "cell_type": "code",
   "execution_count": null,
   "id": "d6da49a9-e8f3-409a-8844-3a25398d1386",
   "metadata": {},
   "outputs": [],
   "source": []
  },
  {
   "cell_type": "code",
   "execution_count": null,
   "id": "d5e5c06b-83cc-4972-8fff-7097e5f0e8cf",
   "metadata": {},
   "outputs": [],
   "source": [
    "def run(agent_executor: AgentExecutor, keyword: str) -> dict:\n",
    "    result = agent_executor.invoke(\n",
    "        {\n",
    "            \"input\": f\"\"\"\n",
    "        1. `{keyword}` 키워드로 상품 리스트를 가져와줘.\n",
    "        2. 1번 과정에서 가져온 상품 리스트 각각의 table of content 를 가져와줘.\n",
    "        3. 마지막으로 모든 상품 리스트의 table of content 를 종합하여 내가 앞으로 집필할 베스트셀러 책의 목차를 작성해 줘.\n",
    "        \"\"\"\n",
    "        }\n",
    "    )\n",
    "    return result[\"output\"]"
   ]
  },
  {
   "cell_type": "code",
   "execution_count": null,
   "id": "c1809550-0afd-4846-9e62-06882ff8bbac",
   "metadata": {},
   "outputs": [],
   "source": [
    "final_answer = run(agent_executor, \"Pandas\")"
   ]
  }
 ],
 "metadata": {
  "kernelspec": {
   "display_name": "conda_python3",
   "language": "python",
   "name": "conda_python3"
  },
  "language_info": {
   "codemirror_mode": {
    "name": "ipython",
    "version": 3
   },
   "file_extension": ".py",
   "mimetype": "text/x-python",
   "name": "python",
   "nbconvert_exporter": "python",
   "pygments_lexer": "ipython3",
   "version": "3.10.14"
  }
 },
 "nbformat": 4,
 "nbformat_minor": 5
}
